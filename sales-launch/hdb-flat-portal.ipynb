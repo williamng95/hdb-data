{
 "cells": [
  {
   "cell_type": "code",
   "execution_count": 5,
   "id": "married-notification",
   "metadata": {
    "_cell_guid": "b1076dfc-b9ad-4769-8c92-a6c4dae69d19",
    "_uuid": "8f2839f25d086af736a60e9eeb907d3b93b6e0e5",
    "execution": {
     "iopub.execute_input": "2021-05-31T14:55:36.784646Z",
     "iopub.status.busy": "2021-05-31T14:55:36.783465Z",
     "iopub.status.idle": "2021-05-31T14:55:36.793467Z",
     "shell.execute_reply": "2021-05-31T14:55:36.793997Z",
     "shell.execute_reply.started": "2021-05-31T14:19:25.571023Z"
    },
    "papermill": {
     "duration": 0.023771,
     "end_time": "2021-05-31T14:55:36.794298",
     "exception": false,
     "start_time": "2021-05-31T14:55:36.770527",
     "status": "completed"
    },
    "tags": []
   },
   "outputs": [],
   "source": [
    "# This Python 3 environment comes with many helpful analytics libraries installed\n",
    "# It is defined by the kaggle/python Docker image: https://github.com/kaggle/docker-python\n",
    "# For example, here's several helpful packages to load\n",
    "\n",
    "import numpy as np # linear algebra\n",
    "import pandas as pd # data processing, CSV file I/O (e.g. pd.read_csv)\n",
    "from pathlib import Path\n",
    "from datetime import datetime\n",
    "import os\n",
    "# Input data files are available in the read-only \"../input/\" directory\n",
    "# For example, running this (by clicking run or pressing Shift+Enter) will list all files under the input directory\n",
    "\n",
    "import os\n",
    "# for dirname, _, filenames in os.walk('/kaggle/input'):\n",
    "#     for filename in filenames:\n",
    "#         print(os.path.join(dirname, filename))\n",
    "\n",
    "# You can write up to 20GB to the current directory (/kaggle/working/) that gets preserved as output when you create a version using \"Save & Run All\" \n",
    "# You can also write temporary files to /kaggle/temp/, but they won't be saved outside of the current session"
   ]
  },
  {
   "cell_type": "code",
   "execution_count": 6,
   "id": "proper-sentence",
   "metadata": {
    "execution": {
     "iopub.execute_input": "2021-05-31T14:55:36.814836Z",
     "iopub.status.busy": "2021-05-31T14:55:36.814161Z",
     "iopub.status.idle": "2021-05-31T14:55:36.819478Z",
     "shell.execute_reply": "2021-05-31T14:55:36.820063Z",
     "shell.execute_reply.started": "2021-05-31T14:19:25.585437Z"
    },
    "papermill": {
     "duration": 0.01724,
     "end_time": "2021-05-31T14:55:36.820239",
     "exception": false,
     "start_time": "2021-05-31T14:55:36.802999",
     "status": "completed"
    },
    "tags": []
   },
   "outputs": [],
   "source": [
    "import requests\n",
    "import json\n",
    "\n",
    "s=requests.Session()\n",
    "s.headers = {\n",
    "    'authority': 'homes.hdb.gov.sg',\n",
    "    'sec-ch-ua': '\" Not;A Brand\";v=\"99\", \"Google Chrome\";v=\"91\", \"Chromium\";v=\"91\"',\n",
    "    'accept': 'application/json, text/plain, */*',\n",
    "    'sessionid': 'a',\n",
    "    'sec-ch-ua-mobile': '?0',\n",
    "    'user-agent': 'Mozilla/5.0 (Windows NT 10.0; Win64; x64) AppleWebKit/537.36 (KHTML, like Gecko) Chrome/91.0.4472.77 Safari/537.36',\n",
    "    'content-type': 'application/json',\n",
    "    'origin': 'https://homes.hdb.gov.sg',\n",
    "    'sec-fetch-site': 'same-origin',\n",
    "    'sec-fetch-mode': 'cors',\n",
    "    'sec-fetch-dest': 'empty',\n",
    "    'referer': 'https://homes.hdb.gov.sg/home/finding-a-flat',\n",
    "    'accept-language': 'en-US,en;q=0.9,zh-CN;q=0.8,zh;q=0.7',\n",
    "}\n"
   ]
  },
  {
   "cell_type": "code",
   "execution_count": 7,
   "id": "dimensional-cabinet",
   "metadata": {
    "execution": {
     "iopub.execute_input": "2021-05-31T14:55:36.840345Z",
     "iopub.status.busy": "2021-05-31T14:55:36.839711Z",
     "iopub.status.idle": "2021-05-31T14:55:39.721880Z",
     "shell.execute_reply": "2021-05-31T14:55:39.721266Z",
     "shell.execute_reply.started": "2021-05-31T14:19:25.603058Z"
    },
    "papermill": {
     "duration": 2.893202,
     "end_time": "2021-05-31T14:55:39.722045",
     "exception": false,
     "start_time": "2021-05-31T14:55:36.828843",
     "status": "completed"
    },
    "tags": []
   },
   "outputs": [
    {
     "data": {
      "text/plain": [
       "<Response [200]>"
      ]
     },
     "execution_count": 7,
     "metadata": {},
     "output_type": "execute_result"
    }
   ],
   "source": [
    "\n",
    "data = '{\"location\":\"\",\"coordinates\":[[\"\",\"\"]],\"range\":\"2\",\"priceRangeLower\":\"0\",\"priceRangeUpper\":\"0\",\"flatType\":\"\",\"waitingTime\":\"\",\"modeOfSale\":\"BTO,SBF\",\"floorRange\":\"\",\"remainingLeaseRangeLower\":1,\"remainingLeaseRangeUpper\":99,\"ethnicGroup\":\"Chinese\",\"rank\":\"Location, Price Range, Flat Type, Remaining Lease\"}'\n",
    "\n",
    "response = s.post('https://homes.hdb.gov.sg/home-api/public/v1/map/getCoordinatesByFilters', data=data)\n",
    "\n",
    "response\n"
   ]
  },
  {
   "cell_type": "code",
   "execution_count": 8,
   "id": "fleet-establishment",
   "metadata": {
    "execution": {
     "iopub.execute_input": "2021-05-31T14:55:39.758938Z",
     "iopub.status.busy": "2021-05-31T14:55:39.758196Z",
     "iopub.status.idle": "2021-05-31T15:02:20.323253Z",
     "shell.execute_reply": "2021-05-31T15:02:20.322601Z",
     "shell.execute_reply.started": "2021-05-31T14:51:49.790513Z"
    },
    "papermill": {
     "duration": 400.591757,
     "end_time": "2021-05-31T15:02:20.323411",
     "exception": false,
     "start_time": "2021-05-31T14:55:39.731654",
     "status": "completed"
    },
    "tags": []
   },
   "outputs": [],
   "source": [
    "jsonstr=json.loads(response.text)\n",
    "detailedUrl='https://resources.homes.hdb.gov.sg/nf/{}.xml'\n",
    "# https://resources.homes.hdb.gov.sg/nf/2021-05/bto/tg_d2c4/2021-05_BTO_VEdfRDJDNF8xNjE5NTAyODQxMDYz.xml\n",
    "#all project details xml link follow this format - works well for BTO\n",
    "for x in jsonstr:\n",
    "    storageDict={}\n",
    "#     to try and reduce API calls on price range\n",
    "    x['properties']['description']=x['properties']['description'][0]\n",
    "    if x['properties']['listingType']=='BTO':\n",
    "        projPath=x['properties']['description'].get('photoUrl','').rpartition('/')[0]\n",
    "        newUrl=detailedUrl.format(projPath+'/'+x['properties']['description']['projectId'])\n",
    "    elif x['properties']['listingType']=='SBF':\n",
    "        ballotQtr=x['properties']['description']['ballotQtr']\n",
    "        projectID=x['properties']['description']['projectId']\n",
    "        projDict='{\"projectId\":\"'+projectID+'\"}'\n",
    "        storageDict={}\n",
    "        x['availability']=json.loads(s.post('https://homes.hdb.gov.sg/home-api/public/v1/launch/getProjectAvailabilityAndEthnic',data=projDict).text)\n",
    "        for block,value in x['availability']['projectBlockFlatTypeInfoMap'].items():\n",
    "            for flatType in value.keys():\n",
    "                if storageDict.get(flatType) is None:\n",
    "                    priceDict='{\"projectId\":\"'+projectID+'\",\"flatType\":\"'+flatType+'\"}'\n",
    "                    storageDict[flatType]=s.post('https://homes.hdb.gov.sg/home-api/public/v1/launch/getPriceRangeAcrossTownByProjectIdAndFlatType',data=priceDict).text\n",
    "                x['availability']['projectBlockFlatTypeInfoMap'][block][flatType]['areaPrice']=storageDict[flatType]\n",
    "                    \n",
    "        newUrl=detailedUrl.format(ballotQtr+'/sbf/unit_xml/UNIT_'+projectID)\n",
    "    details=s.get(newUrl)\n",
    "    x['details']=details.text"
   ]
  },
  {
   "cell_type": "code",
   "execution_count": 9,
   "id": "appropriate-fifteen",
   "metadata": {
    "execution": {
     "iopub.execute_input": "2021-05-31T15:02:20.386099Z",
     "iopub.status.busy": "2021-05-31T15:02:20.360352Z",
     "iopub.status.idle": "2021-05-31T15:02:20.471580Z",
     "shell.execute_reply": "2021-05-31T15:02:20.472294Z",
     "shell.execute_reply.started": "2021-05-31T14:28:36.189382Z"
    },
    "papermill": {
     "duration": 0.139741,
     "end_time": "2021-05-31T15:02:20.472478",
     "exception": false,
     "start_time": "2021-05-31T15:02:20.332737",
     "status": "completed"
    },
    "tags": []
   },
   "outputs": [
    {
     "data": {
      "text/html": [
       "<div>\n",
       "<style scoped>\n",
       "    .dataframe tbody tr th:only-of-type {\n",
       "        vertical-align: middle;\n",
       "    }\n",
       "\n",
       "    .dataframe tbody tr th {\n",
       "        vertical-align: top;\n",
       "    }\n",
       "\n",
       "    .dataframe thead th {\n",
       "        text-align: right;\n",
       "    }\n",
       "</style>\n",
       "<table border=\"1\" class=\"dataframe\">\n",
       "  <thead>\n",
       "    <tr style=\"text-align: right;\">\n",
       "      <th></th>\n",
       "      <th>coordinates</th>\n",
       "      <th>details</th>\n",
       "      <th>properties.address</th>\n",
       "      <th>properties.listingType</th>\n",
       "      <th>properties.description</th>\n",
       "      <th>properties.hdbCategory</th>\n",
       "      <th>properties.region</th>\n",
       "    </tr>\n",
       "  </thead>\n",
       "  <tbody>\n",
       "    <tr>\n",
       "      <th>0</th>\n",
       "      <td>[1.3066321, 103.8852865]</td>\n",
       "      <td>&lt;?xml version=\"1.0\" encoding=\"UTF-8\"?&gt;\\n&lt;templ...</td>\n",
       "      <td>Dakota Crest</td>\n",
       "      <td>BTO</td>\n",
       "      <td>{'photoUrl': '2022-02/bto/gl_n4c50/gl_n4c50_th...</td>\n",
       "      <td>1</td>\n",
       "      <td>CENTRAL REGION</td>\n",
       "    </tr>\n",
       "    <tr>\n",
       "      <th>1</th>\n",
       "      <td>[1.3066965, 103.8592529]</td>\n",
       "      <td>&lt;?xml version=\"1.0\" encoding=\"UTF-8\"?&gt;\\n&lt;templ...</td>\n",
       "      <td>King George’s Heights</td>\n",
       "      <td>BTO</td>\n",
       "      <td>{'photoUrl': '2022-02/bto/kwn_n2c36/kwn_n2c36_...</td>\n",
       "      <td>1</td>\n",
       "      <td>CENTRAL REGION</td>\n",
       "    </tr>\n",
       "    <tr>\n",
       "      <th>2</th>\n",
       "      <td>[1.3553976, 103.7291229]</td>\n",
       "      <td>&lt;?xml version=\"1.0\" encoding=\"UTF-8\"?&gt;\\n&lt;templ...</td>\n",
       "      <td>Plantation Creek</td>\n",
       "      <td>BTO</td>\n",
       "      <td>{'photoUrl': '2022-02/bto/tg_d1c6/tg_d1c6_thum...</td>\n",
       "      <td>1</td>\n",
       "      <td>WEST REGION</td>\n",
       "    </tr>\n",
       "    <tr>\n",
       "      <th>3</th>\n",
       "      <td>[1.3632007, 103.7317193]</td>\n",
       "      <td>&lt;?xml version=\"1.0\" encoding=\"UTF-8\"?&gt;\\n&lt;templ...</td>\n",
       "      <td>Parc Flora @ Tengah</td>\n",
       "      <td>BTO</td>\n",
       "      <td>{'photoUrl': '2022-02/bto/tg_d3c5/tg_d3c5_thum...</td>\n",
       "      <td>1</td>\n",
       "      <td>WEST REGION</td>\n",
       "    </tr>\n",
       "    <tr>\n",
       "      <th>4</th>\n",
       "      <td>[1.4336788, 103.8464212]</td>\n",
       "      <td>&lt;?xml version=\"1.0\" encoding=\"UTF-8\"?&gt;\\n&lt;templ...</td>\n",
       "      <td>Yishun Boardwalk</td>\n",
       "      <td>BTO</td>\n",
       "      <td>{'photoUrl': '2022-02/bto/ys_n3c27/ys_n3c27_th...</td>\n",
       "      <td>1</td>\n",
       "      <td>NORTH REGION</td>\n",
       "    </tr>\n",
       "  </tbody>\n",
       "</table>\n",
       "</div>"
      ],
      "text/plain": [
       "                coordinates  \\\n",
       "0  [1.3066321, 103.8852865]   \n",
       "1  [1.3066965, 103.8592529]   \n",
       "2  [1.3553976, 103.7291229]   \n",
       "3  [1.3632007, 103.7317193]   \n",
       "4  [1.4336788, 103.8464212]   \n",
       "\n",
       "                                             details     properties.address  \\\n",
       "0  <?xml version=\"1.0\" encoding=\"UTF-8\"?>\\n<templ...           Dakota Crest   \n",
       "1  <?xml version=\"1.0\" encoding=\"UTF-8\"?>\\n<templ...  King George’s Heights   \n",
       "2  <?xml version=\"1.0\" encoding=\"UTF-8\"?>\\n<templ...       Plantation Creek   \n",
       "3  <?xml version=\"1.0\" encoding=\"UTF-8\"?>\\n<templ...    Parc Flora @ Tengah   \n",
       "4  <?xml version=\"1.0\" encoding=\"UTF-8\"?>\\n<templ...       Yishun Boardwalk   \n",
       "\n",
       "  properties.listingType                             properties.description  \\\n",
       "0                    BTO  {'photoUrl': '2022-02/bto/gl_n4c50/gl_n4c50_th...   \n",
       "1                    BTO  {'photoUrl': '2022-02/bto/kwn_n2c36/kwn_n2c36_...   \n",
       "2                    BTO  {'photoUrl': '2022-02/bto/tg_d1c6/tg_d1c6_thum...   \n",
       "3                    BTO  {'photoUrl': '2022-02/bto/tg_d3c5/tg_d3c5_thum...   \n",
       "4                    BTO  {'photoUrl': '2022-02/bto/ys_n3c27/ys_n3c27_th...   \n",
       "\n",
       "  properties.hdbCategory properties.region  \n",
       "0                      1    CENTRAL REGION  \n",
       "1                      1    CENTRAL REGION  \n",
       "2                      1       WEST REGION  \n",
       "3                      1       WEST REGION  \n",
       "4                      1      NORTH REGION  "
      ]
     },
     "execution_count": 9,
     "metadata": {},
     "output_type": "execute_result"
    }
   ],
   "source": [
    "df=pd.json_normalize(jsonstr,max_level=1)\n",
    "df.head(5)"
   ]
  },
  {
   "cell_type": "code",
   "execution_count": 10,
   "id": "operating-archive",
   "metadata": {
    "execution": {
     "iopub.execute_input": "2021-05-31T15:02:20.495007Z",
     "iopub.status.busy": "2021-05-31T15:02:20.494395Z",
     "iopub.status.idle": "2021-05-31T15:02:20.502708Z",
     "shell.execute_reply": "2021-05-31T15:02:20.503174Z",
     "shell.execute_reply.started": "2021-05-31T14:34:40.926222Z"
    },
    "papermill": {
     "duration": 0.021081,
     "end_time": "2021-05-31T15:02:20.503350",
     "exception": false,
     "start_time": "2021-05-31T15:02:20.482269",
     "status": "completed"
    },
    "tags": []
   },
   "outputs": [
    {
     "data": {
      "text/plain": [
       "'<?xml version=\"1.0\" encoding=\"UTF-8\"?>\\n<template>\\n    <project-name>Grove Spring @ Yishun</project-name>\\n    <standard-project-info>\\n        <key>\\n            <town>Yishun</town>\\n            <tooltip/>\\n            <uri/>\\n        </key>\\n        <key>\\n            <point>1524|917</point>\\n        </key>\\n        <key>\\n            <latitude>1.4315820</latitude>\\n            <longitude>103.8489962</longitude>\\n        </key>\\n        <key>\\n            <completion-date>4Q2024</completion-date>\\n            <tooltip>\\n                \\n        This is an estimated date that the flat will be completed and ready for key collection, and the actual completion date will depend on the progress of construction works on site. As the Estimated Completion Date (ECD) is indicative only, HDB shall not be responsible for any damage or loss arising from a change in the ECD.\\n        &lt;br/>&lt;br/>\\n        After booking the flat, buyers may check for updates via My HDBPage on HDB InfoWEB, as the construction of the project progresses.\\n        &lt;br/>&lt;br/>\\n        Note: The contractual date in the Agreement for Lease by which HDB is required to deliver vacant possession of the booked flat to buyers is known as the Delivery Possession Date (DPD), which is 18 months after the ECD. Currently, the estimated DPD is from 30 Jun 2026. \\n      \\n            </tooltip>\\n            <uri/>\\n        </key>\\n        <key>\\n            <remaining-lease>99</remaining-lease>\\n            <tooltip>\\n        The 3-, 4-, and 5-room flats are sold on a 99-year lease. First-timer and second-timer families, and first-timer singles will be offered 99-year 2-room Flexi flats. Eligible Singapore Citizens and their spouses (if applicable) aged 55 and above can choose a short lease of between 15 and 45 years, in five-year increments, for the 2-room Flexi flat. The chosen lease has to cover them up to the age of at least 95 years.\\n      </tooltip>\\n            <uri/>\\n        </key>\\n        <key>\\n            <selection-month>Apr to Dec 2022</selection-month>\\n        </key>\\n        <key>\\n            <est-waiting-time>26 months</est-waiting-time>\\n        </key>\\n        <key>\\n            <lease-period-2rm>B</lease-period-2rm>\\n        </key>\\n        <key>\\n            <price-tooltip>\\n                \\n        The indicative price range of the flats exclude grants and are based on 99-year leases.\\n        &lt;br/>&lt;br/>\\n        Actual prices may vary based on the actual attributes of the flats at the time of selection. Prices include the costs of floor finishes, internal doors, and sanitary fittings. \\n        &lt;br/>&lt;br/>\\n        Singles who apply for a 2-room Flexi flat under the Single Singapore Citizen Scheme will pay $15,000 more than married couples.\\n        \\n            </price-tooltip>\\n        </key>\\n        <unit-details>\\n            <ukey>\\n                <flat-type>2-Room Flexi (Type 1)</flat-type>\\n                <supply>56</supply>\\n                <est-floor-area-lower>40</est-floor-area-lower>\\n                <est-floor-area-upper>40</est-floor-area-upper>\\n                <tooltip>Refers to the estimated area of the whole apartment, comprising the internal floor area and the air-conditioner ledge.</tooltip>\\n                <est-internal-floor-area-lower>38</est-internal-floor-area-lower>\\n                <est-internal-floor-area-upper>38</est-internal-floor-area-upper>\\n                <tooltip>Refers to the estimated area of the apartment computed based on the centre line of the apartment wall.</tooltip>\\n                <price-range-lower>102000</price-range-lower>\\n                <price-range-upper>121000</price-range-upper>\\n                <tooltip/>\\n                <finishes-and-fittings-text>\\n                    <non-optional>\\n                        \\n            &lt;h4>Finishes and Fittings&lt;/h4>\\n            &lt;br/>\\n            &lt;h5>Non-Optional Finishes&lt;/h5>\\n            &lt;br/>\\n            &lt;p>To boost construction productivity, Grove Spring @ Yishun will be built using the Prefabricated Prefinished Volumetric Construction (PPVC) method. The flats will come with full floor finishes, internal doors, and sanitary fittings.&lt;/p>\\n            &lt;br/>\\n            &lt;p>The 2-room Flexi (Type 1) flats will come with the following finishes and fittings: &lt;/p>\\n            &lt;ul>\\n              &lt;li>Vinyl strip flooring in the:&lt;/li>\\n              &lt;ul>\\n                &lt;li>Living/ dining&lt;/li>\\n                &lt;li>Bedroom&lt;/li>\\n              &lt;/ul>\\n              &lt;li>Floor tiles in the:&lt;/li>\\n              &lt;ul>\\n                &lt;li>Bathroom&lt;/li>\\n                &lt;li>Household shelter&lt;/li>\\n                &lt;li>Kitchen&lt;/li>\\n              &lt;/ul>\\n              &lt;li>Wall tiles in the:&lt;/li>\\n              &lt;ul>\\n                &lt;li>Bathroom&lt;/li>\\n                &lt;li>Kitchen&lt;/li>\\n              &lt;/ul>\\n              &lt;li>A sliding partition/ door for the bedroom and folding bathroom door&lt;/li>\\n              &lt;li>Sanitary fittings, i.e. wash basin with tap mixer, shower set with bath/ shower mixer, and water closet suite&lt;/li>\\n              &lt;li>Grab bars (for 2-room Flexi flats on short-leases)&lt;/li>\\n            &lt;/ul>\\n          \\n                    </non-optional>\\n                    <optional>\\n                        <floor>\\n                            <header>OCS Package for short-lease 2-room Flexi flats</header>\\n                            <price>6200</price>\\n                            <text>\\n                                \\n                &lt;ul>\\n                  &lt;li>Lighting &lt;/li>\\n                  &lt;li>Window grilles &lt;/li>\\n                  &lt;li>Built-in kitchen cabinets with induction hob and cooker hood, kitchen sink, tap, and dish drying rack. Buyers who are wheel-chair bound may choose to have a lower kitchen countertop &lt;/li>\\n                  &lt;li>Built-in wardrobe&lt;/li>\\n                  &lt;li>Water heater &lt;/li>\\n                  &lt;li>Mirror and toilet roll holder in bathroom&lt;/li>\\n                &lt;/ul>\\n                \\n                            </text>\\n                        </floor>\\n                    </optional>\\n                </finishes-and-fittings-text>\\n            </ukey>\\n            <ukey>\\n                <flat-type>2-Room Flexi (Type 2)</flat-type>\\n                <supply>140</supply>\\n                <est-floor-area-lower>48</est-floor-area-lower>\\n                <est-floor-area-upper>48</est-floor-area-upper>\\n                <tooltip>Refers to the estimated area of the whole apartment, comprising the internal floor area and the air-conditioner ledge.</tooltip>\\n                <est-internal-floor-area-lower>46</est-internal-floor-area-lower>\\n                <est-internal-floor-area-upper>46</est-internal-floor-area-upper>\\n                <tooltip>Refers to the estimated area of the apartment computed based on the centre line of the apartment wall.</tooltip>\\n                <price-range-lower>118000</price-range-lower>\\n                <price-range-upper>145000</price-range-upper>\\n                <finishes-and-fittings-text>\\n                    <non-optional>\\n                        \\n            &lt;h4>Finishes and Fittings&lt;/h4>\\n            &lt;br/>\\n            &lt;h5>Non-Optional Finishes&lt;/h5>\\n            &lt;br/>\\n            &lt;p>To boost construction productivity, Grove Spring @ Yishun will be built using the Prefabricated Prefinished Volumetric Construction (PPVC) method. The flats will come with full floor finishes, internal doors, and sanitary fittings.&lt;/p>\\n            &lt;br/>\\n            &lt;p>The 2-room Flexi (Type 2) flats will come with the following finishes and fittings: &lt;/p>\\n            &lt;ul>\\n              &lt;li>Vinyl strip flooring in the:&lt;/li>\\n              &lt;ul>\\n                &lt;li>Living/ dining&lt;/li>\\n                &lt;li>Bedroom&lt;/li>\\n              &lt;/ul>\\n              &lt;li>Floor tiles in the:&lt;/li>\\n              &lt;ul>\\n                &lt;li>Bathroom&lt;/li>\\n                &lt;li>Household shelter&lt;/li>\\n                &lt;li>Kitchen&lt;/li>\\n              &lt;/ul>\\n              &lt;li>Wall tiles in the:&lt;/li>\\n              &lt;ul>\\n                &lt;li>Bathroom&lt;/li>\\n                &lt;li>Kitchen&lt;/li>\\n              &lt;/ul>\\n              &lt;li>A sliding partition/ door for the bedroom and folding bathroom door&lt;/li>\\n              &lt;li>Sanitary fittings, i.e. wash basin with tap mixer, shower set with bath/ shower mixer, and water closet suite&lt;/li>\\n              &lt;li>Grab bars (for 2-room Flexi flats on short-leases)&lt;/li>\\n            &lt;/ul>\\n          \\n                    </non-optional>\\n                    <optional>\\n                        <floor>\\n                            <header>OCS Package for short-lease 2-room Flexi flats</header>\\n                            <price>7380</price>\\n                            <text>\\n                                \\n                &lt;ul>\\n                  &lt;li>Lighting &lt;/li>\\n                  &lt;li>Window grilles &lt;/li>\\n                  &lt;li>Built-in kitchen cabinets with induction hob and cooker hood, kitchen sink, tap, and dish drying rack. Buyers who are wheel-chair bound may choose to have a lower kitchen countertop &lt;/li>\\n                  &lt;li>Built-in wardrobe&lt;/li>\\n                  &lt;li>Water heater &lt;/li>\\n                  &lt;li>Mirror and toilet roll holder in bathroom&lt;/li>\\n                  &lt;li>Laminated UPVC folding door for the flexible space &lt;/li>\\n                &lt;/ul>\\n                \\n                            </text>\\n                        </floor>\\n                    </optional>\\n                </finishes-and-fittings-text>\\n            </ukey>\\n            <ukey>\\n                <flat-type>3-Room (Income Ceiling $7,000)</flat-type>\\n                <supply>82</supply>\\n                <est-floor-area-lower>71</est-floor-area-lower>\\n                <est-floor-area-upper>74</est-floor-area-upper>\\n                <tooltip>Refers to the estimated area of the whole apartment, comprising the internal floor area and the air-conditioner ledge.</tooltip>\\n                <est-internal-floor-area-lower>68</est-internal-floor-area-lower>\\n                <est-internal-floor-area-upper>71</est-internal-floor-area-upper>\\n                <tooltip>Refers to the estimated area of the apartment computed based on the centre line of the apartment wall.</tooltip>\\n                <price-range-lower>180000</price-range-lower>\\n                <price-range-upper>248000</price-range-upper>\\n                <finishes-and-fittings-text>\\n                    <non-optional>\\n                        \\n            &lt;h4>Finishes and Fittings&lt;/h4>\\n            &lt;br/>\\n            &lt;h5>Non-Optional Finishes&lt;/h5>\\n            &lt;br/>\\n            &lt;p>To boost construction productivity, Grove Spring @ Yishun will be built using the Prefabricated Prefinished Volumetric Construction (PPVC) method. The flats will come with full floor finishes, internal doors, and sanitary fittings.&lt;/p>\\n            &lt;br/>\\n            &lt;p>The 3-room flats will come with the following finishes and fittings: &lt;/p>\\n            &lt;ul>\\n              &lt;li>Vinyl strip flooring in the:&lt;/li>\\n              &lt;ul>\\n                &lt;li>Living/ dining, dry kitchen &lt;/li>\\n                &lt;li>Bedrooms&lt;/li>\\n              &lt;/ul>\\n              &lt;li>Floor tiles in the:&lt;/li>\\n              &lt;ul>\\n                &lt;li>Bathrooms&lt;/li>\\n                &lt;li>Household shelter&lt;/li>\\n                &lt;li>Kitchen/ utility&lt;/li>\\n                &lt;li>Balcony (where applicable)&lt;/li>\\n             &lt;/ul>\\n             &lt;li>Wall tiles in the:&lt;/li>\\n              &lt;ul>\\n                &lt;li>Bathrooms&lt;/li>\\n                &lt;li>Kitchen/ utility&lt;/li>\\n              &lt;/ul>\\n             &lt;li>Internal doors for bedrooms and folding doors for bathrooms&lt;/li>\\n             &lt;li>Sanitary fittings, i.e. wash basin with tap mixer, shower set with bath/ shower mixer, and water closet suite&lt;/li>\\n            &lt;/ul>\\n            \\n                    </non-optional>\\n                </finishes-and-fittings-text>\\n            </ukey>\\n            <ukey>\\n                <flat-type>4-Room</flat-type>\\n                <supply>373</supply>\\n                <est-floor-area-lower>95</est-floor-area-lower>\\n                <est-floor-area-upper>98</est-floor-area-upper>\\n                <tooltip>Refers to the estimated area of the whole apartment, comprising the internal floor area and the air-conditioner ledge.</tooltip>\\n                <est-internal-floor-area-lower>92</est-internal-floor-area-lower>\\n                <est-internal-floor-area-upper>95</est-internal-floor-area-upper>\\n                <tooltip>Refers to the estimated area of the apartment computed based on the centre line of the apartment wall.</tooltip>\\n                <price-range-lower>270000</price-range-lower>\\n                <price-range-upper>362000</price-range-upper>\\n                <finishes-and-fittings-text>\\n                    <non-optional>\\n                        \\n            &lt;h4>Finishes and Fittings&lt;/h4>\\n            &lt;br/>\\n            &lt;h5>Non-Optional Finishes&lt;/h5>\\n            &lt;br/>\\n            &lt;p>To boost construction productivity, Grove Spring @ Yishun will be built using the Prefabricated Prefinished Volumetric Construction (PPVC) method. The flats will come with full floor finishes, internal doors, and sanitary fittings.&lt;/p>\\n            &lt;br/>\\n            &lt;p>The 4-room flats will come with the following finishes and fittings: &lt;/p>\\n            &lt;ul>\\n              &lt;li>Vinyl strip flooring in the:&lt;/li>\\n              &lt;ul>\\n                &lt;li>Living/ dining&lt;/li>\\n                &lt;li>Bedrooms&lt;/li>\\n              &lt;/ul>\\n              &lt;li>Floor tiles in the:&lt;/li>\\n              &lt;ul>\\n                &lt;li>Bathrooms&lt;/li>\\n                &lt;li>Household shelter&lt;/li>\\n                &lt;li>Kitchen and service yard&lt;/li>\\n                &lt;li>Balcony (where applicable)&lt;/li>\\n              &lt;/ul>\\n              &lt;li>Wall tiles in the:&lt;/li>\\n              &lt;ul>\\n                &lt;li>Bathrooms&lt;/li>\\n                &lt;li>Kitchen&lt;/li>\\n              &lt;/ul>\\n              &lt;li>Internal doors for bedrooms and folding doors for bathrooms&lt;/li>\\n              &lt;li>Sanitary fittings, i.e. wash basin with tap mixer, shower set with bath/ shower mixer, and water closet suite&lt;/li>\\n            &lt;/ul>\\n            \\n                    </non-optional>\\n                </finishes-and-fittings-text>\\n            </ukey>\\n            <ukey>\\n                <flat-type>5-Room</flat-type>\\n                <supply>336</supply>\\n                <est-floor-area-lower>113</est-floor-area-lower>\\n                <est-floor-area-upper>116</est-floor-area-upper>\\n                <tooltip>Refers to the estimated area of the whole apartment, comprising the internal floor area and the air-conditioner ledge.</tooltip>\\n                <est-internal-floor-area-lower>110</est-internal-floor-area-lower>\\n                <est-internal-floor-area-upper>113</est-internal-floor-area-upper>\\n                <tooltip>Refers to the estimated area of the apartment computed based on the centre line of the apartment wall.</tooltip>\\n                <price-range-lower>385000</price-range-lower>\\n                <price-range-upper>485000</price-range-upper>\\n                <finishes-and-fittings-text>\\n                    <non-optional>\\n                        \\n            &lt;h4>Finishes and Fittings&lt;/h4>\\n            &lt;br/>\\n            &lt;h5>Non-Optional Finishes&lt;/h5>\\n            &lt;br/>\\n            &lt;p>To boost construction productivity, Grove Spring @ Yishun will be built using the Prefabricated Prefinished Volumetric Construction (PPVC) method. The flats will come with full floor finishes, internal doors, and sanitary fittings.&lt;/p>\\n            &lt;br/>\\n            &lt;p>The 5-room flats will come with the following finishes and fittings: &lt;/p>\\n            &lt;ul>\\n              &lt;li>Vinyl strip flooring in the:&lt;/li>\\n              &lt;ul>\\n                &lt;li>Living/ dining&lt;/li>\\n                &lt;li>Bedrooms&lt;/li>\\n              &lt;/ul>\\n              &lt;li>Floor tiles in the:&lt;/li>\\n              &lt;ul>\\n                &lt;li>Bathrooms&lt;/li>\\n                &lt;li>Household shelter&lt;/li>\\n                &lt;li>Kitchen and service yard&lt;/li>\\n                &lt;li>Balcony (where applicable)&lt;/li>\\n              &lt;/ul>\\n              &lt;li>Wall tiles in the:&lt;/li>\\n              &lt;ul>\\n                &lt;li>Bathrooms&lt;/li>\\n                &lt;li>Kitchen&lt;/li>\\n              &lt;/ul>\\n              &lt;li>Internal doors for bedrooms and folding doors for bathrooms&lt;/li>\\n              &lt;li>Sanitary fittings, i.e. wash basin with tap mixer, shower set with bath/ shower mixer, and water closet suite&lt;/li>\\n            &lt;/ul>\\n            \\n                    </non-optional>\\n                </finishes-and-fittings-text>\\n            </ukey>\\n        </unit-details>\\n        <overview>\\n            <p>\\n                      \\n                \\n\\t\\t&lt;h6>Yishun&lt;/h6>\\n\\t\\t&lt;br/>\\n    Grove Spring @ Yishun &lt;a class=\"audioBtn Grove-Spring\">&lt;i class=\"fas fa-volume-up\">&lt;/i>&lt;/a>, bounded by Yishun Avenue 6 and Yishun Avenue 8, is a short waiting time project with estimated waiting from flat selection date to estimated completion date of less than 36 months. The development\\'s facade resembles groves of trees with the use of earthy colours inspired by a forest theme. Grove Spring @ Yishun takes its name from this design concept.\\n    &lt;br/>&lt;br/>\\n    This development comprises eight 15-storey residential blocks. You can choose from 987 units of 2-room Flexi, 3-, 4-, and 5-room flats. Flats in this development will have a shorter waiting time.\\n    &lt;br/>&lt;br/>\\n    Grove Spring @ Yishun will feature a range of recreational facilities, such as playgrounds, adult and elderly fitness stations, and a roof garden atop the Multi-Storey Car Park (MSCP).  A residents’ network centre and a childcare centre will also be located within the development. Please refer to the site plan for the facilities provided in the development. Facilities in this development will be accessible by the public.  \\n    &lt;br/>&lt;br/>\\n\\t\\n            </p>\\n        </overview>\\n        <notes>\\n            <p>\\n                \\n         HDB precincts are planned to serve the evolving needs of the community. There are spaces catered for future inclusion of amenities/ facilities (such as childcare centres, elderly-related facilities, education centres, residents\\' network centres, day activity centres, etc), commercial facilities (such as shops and eating houses), mechanical and electrical rooms, and such other facilities depending on the prevailing needs. These spaces could be in the void decks, common property, car parks, or stand-alone community buildings.\\n         &lt;br/>&lt;br/>\\n         In addition, housing projects may be located near roads, railways, airbases, and land used for non-residential purposes. Hence, residents may experience higher noise levels. We have provided information on the surrounding land use, proposed facilities and their locations in the maps and plans of individual projects, where feasible. The information provided is indicatively based on the current planning intent of the relevant authorities and is subject to change from time to time.\\n         &lt;br/>&lt;br/>\\n         &lt;ul>\\n           &lt;li>Get answers to &lt;a href=\"https://www.hdb.gov.sg/cs/infoweb/residential/buying-a-flat/new/buying-process/application-procedure/faqs-for-sales-launch\">Frequently Asked Questions on sales launches&lt;/a>&lt;/li>\\n           &lt;li>Visit the virtual showflats at &lt;a href=\"https://www.hdb.gov.sg/mynicehomegallery?utm_source=Feb22website&amp;utm_medium=link&amp;utm_campaign=MNHG\">My Nice Home Gallery&lt;/a> and get interior decor ideas&lt;/li>\\n         &lt;/ul>\\n       \\n            </p>\\n        </notes>\\n    </standard-project-info>\\n    <template-body>\\n        <row>\\n            <header>Eco-Friendly Features</header>\\n        </row>\\n        <row>\\n            <p>\\n                \\n        &lt;p>To encourage green and sustainable living, Grove Spring @ Yishun will have several eco-friendly features such as:&lt;/p>\\n        &lt;ul>\\n          &lt;li>Separate chutes for recyclable waste&lt;/li>\\n          &lt;li>Regenerative lifts to reduce energy consumption&lt;/li>\\n          &lt;li>Bicycle stands to encourage cycling as an environmentally-friendly form of transport&lt;/li>\\n          &lt;li>Parking spaces to facilitate future provision of electrical vehicle charging stations&lt;/li> \\n          &lt;li>Use of sustainable products in the development&lt;/li>\\n          &lt;li>Active, Beautiful, Clean Waters design features to clean rainwater and beautify the landscapes&lt;/li>\\n        &lt;/ul>\\n        \\n            </p>\\n        </row>\\n        <row>\\n            <template1>\\n                <photo-folder>2022-02/bto/ys_n4c23/template1</photo-folder>\\n                <photos>\\n                    <photo>2022-02/bto/ys_n4c23/template1/1.jpg</photo>\\n                    <photo>2022-02/bto/ys_n4c23/template1/2.jpg</photo>\\n                    <photo>2022-02/bto/ys_n4c23/template1/3.jpg</photo>\\n                </photos>\\n            </template1>\\n        </row>\\n        <row>\\n            <header>Smart Solutions</header>\\n        </row>\\n        <row>\\n            <p>\\n                \\n        &lt;p>Grove Spring @ Yishun will come with the following smart solutions to reduce energy usage, and contribute to a more sustainable and safer living environment:   &lt;/p>\\n        &lt;ul>\\n          &lt;li>Smart-enabled homes with provisions to support easy installation of smart systems&lt;/li>\\n          &lt;li>Smart Lighting in common areas to reduce energy usage&lt;/li>\\n        &lt;/ul>\\n        \\n            </p>\\n        </row>\\n        <row>\\n            <header>About Yishun Town</header>\\n        </row>\\n        <row>\\n            <p>\\n                \\n        The vibrant Yishun town offers a wide array of amenities to cater to your various needs. For shopping and dining options, you can head to Northpoint City, Yishun Mall, or Yishun Park Hawker Centre. Discover more heartland shops around Yishun by visiting &lt;a href=\"https://www.hdb.gov.sg/residential/where2shop/explore/yishun\">Where2Shop@HDB&lt;/a>.\\n        &lt;br/>&lt;br/>\\n        Those who love the outdoors can explore Yishun Park, Yishun Pond, and Lower Seletar Reservoir. Other recreational venues include the Yishun Public Library and Yishun Swimming Complex. Alternatively, you can choose to learn a new skill or hobby at Nee Soon East Community Club. \\n        &lt;br/>&lt;br/>\\n        Parents with school-going children can consider nearby schools such as North View Primary School, Xishan Primary School, Yishun Town Secondary School, and Northland Secondary School.\\n        &lt;br/>&lt;br/>\\n        The town is served by the MRT station and bus interchange at Yishun Integrated Transport Hub. Drivers and motorists can easily connect to other parts of Singapore via the Seletar Expressway (SLE).\\n        &lt;br/>&lt;br/>\\n        \\n            </p>\\n        </row>\\n        <row>\\n            <template2>\\n                <photo-folder>2022-02/bto/ys_n4c23/template2</photo-folder>\\n                <photos>\\n                    <photo>2022-02/bto/ys_n4c23/template2/1.jpg</photo>\\n                    <photo>2022-02/bto/ys_n4c23/template2/2.jpg</photo>\\n                    <photo>2022-02/bto/ys_n4c23/template2/3.jpg</photo>\\n                    <photo>2022-02/bto/ys_n4c23/template2/4.jpg</photo>\\n                    <photo>2022-02/bto/ys_n4c23/template2/5.jpg</photo>\\n                    <photo>2022-02/bto/ys_n4c23/template2/6.jpg</photo>\\n                </photos>\\n            </template2>\\n        </row>\\n    </template-body>\\n    <resources>\\n        <town-map>2022-02/bto/ys_n4c23/townmap/townmap_ys_n4c23.jpg</town-map>\\n        <carousel>\\n            <link>2022-02/bto/ys_n4c23/carousel/01_perspective.jpg</link>\\n            <link>2022-02/bto/ys_n4c23/carousel/02_perspective.jpg</link>\\n            <link>2022-02/bto/ys_n4c23/carousel/03_siteplan_ys_n4c23.jpg</link>\\n        </carousel>\\n        <sound>2022-02/bto/ys_n4c23/sound/ys_n4c23.mp3</sound>\\n        <genspecs>\\n            <genspecs-2rm>2022-02/bto/ys_n4c23/genspecs/genspecs_ys_n4c23_2rm.jpg</genspecs-2rm>\\n            <genspecs-2rm>2022-02/bto/ys_n4c23/genspecs/genspecs_ys_n4c23_2rm_3rm_4rm_5rm.jpg</genspecs-2rm>\\n            <genspecs-3rm>2022-02/bto/ys_n4c23/genspecs/genspecs_ys_n4c23_2rm_3rm_4rm_5rm.jpg</genspecs-3rm>\\n            <genspecs-4rm>2022-02/bto/ys_n4c23/genspecs/genspecs_ys_n4c23_2rm_3rm_4rm_5rm.jpg</genspecs-4rm>\\n            <genspecs-5rm>2022-02/bto/ys_n4c23/genspecs/genspecs_ys_n4c23_2rm_3rm_4rm_5rm.jpg</genspecs-5rm>\\n        </genspecs>\\n        <layoutideas>\\n            <layoutideas-2rmtype2>2022-02/bto/ys_n4c23/layoutideas/layoutideas_ys_n4c23_2rmType2.jpg</layoutideas-2rmtype2>\\n            <layoutideas-2rmtype1>2022-02/bto/ys_n4c23/layoutideas/layoutideas_ys_n4c23_2rmtype1.jpg</layoutideas-2rmtype1>\\n            <layoutideas-3rm>2022-02/bto/ys_n4c23/layoutideas/layoutideas_ys_n4c23_3rm(1).jpg</layoutideas-3rm>\\n            <layoutideas-3rm>2022-02/bto/ys_n4c23/layoutideas/layoutideas_ys_n4c23_3rm(2).jpg</layoutideas-3rm>\\n            <layoutideas-4rm>2022-02/bto/ys_n4c23/layoutideas/layoutideas_ys_n4c23_4rm(1).jpg</layoutideas-4rm>\\n            <layoutideas-4rm>2022-02/bto/ys_n4c23/layoutideas/layoutideas_ys_n4c23_4rm(2).jpg</layoutideas-4rm>\\n            <layoutideas-5rm>2022-02/bto/ys_n4c23/layoutideas/layoutideas_ys_n4c23_5rm(1).jpg</layoutideas-5rm>\\n            <layoutideas-5rm>2022-02/bto/ys_n4c23/layoutideas/layoutideas_ys_n4c23_5rm(2).jpg</layoutideas-5rm>\\n        </layoutideas>\\n        <resale>\\n            <resale-2rm>2022-02/bto/ys_n4c23/resale/resale_ys_n4c23_2rm.jpg</resale-2rm>\\n            <resale-3rm>2022-02/bto/ys_n4c23/resale/resale_ys_n4c23_3rm.jpg</resale-3rm>\\n            <resale-4rm>2022-02/bto/ys_n4c23/resale/resale_ys_n4c23_4rm.jpg</resale-4rm>\\n            <resale-5rm>2022-02/bto/ys_n4c23/resale/resale_ys_n4c23_5rm.jpg</resale-5rm>\\n        </resale>\\n        <oydh>\\n            <oydh-2rmtype1>2022-02/bto/ys_n4c23/oydh/oydh_ys_n4c23_2rmtype1.jpg</oydh-2rmtype1>\\n            <oydh-2rmtype2>2022-02/bto/ys_n4c23/oydh/oydh_ys_n4c23_2rmtype2.jpg</oydh-2rmtype2>\\n            <oydh-3rm>2022-02/bto/ys_n4c23/oydh/oydh_ys_n4c23_3rm.jpg</oydh-3rm>\\n            <oydh-4rm>2022-02/bto/ys_n4c23/oydh/oydh_ys_n4c23_4rm.jpg</oydh-4rm>\\n            <oydh-5rm>2022-02/bto/ys_n4c23/oydh/oydh_ys_n4c23_5rm.jpg</oydh-5rm>\\n        </oydh>\\n        <ocsleaflet>\\n            <ocsleaflet-2rm>2022-02/bto/ys_n4c23/ocsleaflet/ocsleaflet_ys_n4c23_2rm(1).png</ocsleaflet-2rm>\\n            <ocsleaflet-2rm>2022-02/bto/ys_n4c23/ocsleaflet/ocsleaflet_ys_n4c23_2rm(2).png</ocsleaflet-2rm>\\n        </ocsleaflet>\\n        <ocs/>\\n    </resources>\\n</template>'"
      ]
     },
     "execution_count": 10,
     "metadata": {},
     "output_type": "execute_result"
    }
   ],
   "source": [
    "df['details'][5]"
   ]
  },
  {
   "cell_type": "code",
   "execution_count": 11,
   "id": "187fffb6",
   "metadata": {},
   "outputs": [
    {
     "name": "stdout",
     "output_type": "stream",
     "text": [
      "past_data\\2022\\feb-2022\n"
     ]
    }
   ],
   "source": [
    "# create past data save path\n",
    "monthYear = datetime.now().strftime('%h-%Y').lower()\n",
    "year = datetime.now().strftime('%Y')\n",
    "savePath = os.path.join('past_data', year, monthYear)\n",
    "Path(savePath).mkdir(parents=True, exist_ok=True)\n",
    "\n",
    "print(savePath)"
   ]
  },
  {
   "cell_type": "code",
   "execution_count": 12,
   "id": "exotic-collection",
   "metadata": {
    "execution": {
     "iopub.execute_input": "2021-05-31T15:02:20.529590Z",
     "iopub.status.busy": "2021-05-31T15:02:20.528801Z",
     "iopub.status.idle": "2021-05-31T15:02:20.816651Z",
     "shell.execute_reply": "2021-05-31T15:02:20.815880Z",
     "shell.execute_reply.started": "2021-05-31T14:34:45.196417Z"
    },
    "papermill": {
     "duration": 0.303481,
     "end_time": "2021-05-31T15:02:20.816854",
     "exception": false,
     "start_time": "2021-05-31T15:02:20.513373",
     "status": "completed"
    },
    "tags": []
   },
   "outputs": [
    {
     "name": "stderr",
     "output_type": "stream",
     "text": [
      "C:\\Users\\willi\\miniconda3\\envs\\workspace\\lib\\site-packages\\pandas\\core\\generic.py:2703: PerformanceWarning: \n",
      "your performance may suffer as PyTables will pickle object types that it cannot\n",
      "map directly to c-types [inferred_type->mixed,key->block0_values] [items->Index(['coordinates', 'details', 'properties.address',\n",
      "       'properties.listingType', 'properties.description',\n",
      "       'properties.hdbCategory', 'properties.region'],\n",
      "      dtype='object')]\n",
      "\n",
      "  pytables.to_hdf(\n"
     ]
    }
   ],
   "source": [
    "# save data in various formats\n",
    "fileName = os.path.join(savePath, 'hdb-sale-'+monthYear)\n",
    "df.to_hdf(fileName+'.h5','HDBSALES')\n",
    "df.to_pickle(fileName+'.pkl')\n",
    "with open(fileName+\".json\", \"w\") as write_file:\n",
    "    json.dump(jsonstr, write_file)"
   ]
  },
  {
   "cell_type": "code",
   "execution_count": 13,
   "id": "rapid-rouge",
   "metadata": {
    "execution": {
     "iopub.execute_input": "2021-05-31T15:02:20.845345Z",
     "iopub.status.busy": "2021-05-31T15:02:20.844368Z",
     "iopub.status.idle": "2021-05-31T15:02:20.848692Z",
     "shell.execute_reply": "2021-05-31T15:02:20.848172Z",
     "shell.execute_reply.started": "2021-05-31T14:35:01.479838Z"
    },
    "papermill": {
     "duration": 0.020653,
     "end_time": "2021-05-31T15:02:20.848835",
     "exception": false,
     "start_time": "2021-05-31T15:02:20.828182",
     "status": "completed"
    },
    "tags": []
   },
   "outputs": [
    {
     "data": {
      "text/plain": [
       "{'coordinates': '[1.3066965, 103.8592529]',\n",
       " 'properties': {'address': 'King George’s Heights',\n",
       "  'listingType': 'BTO',\n",
       "  'description': {'photoUrl': '2022-02/bto/kwn_n2c36/kwn_n2c36_thumbnail.jpg',\n",
       "   'maxRemainingLease': '99',\n",
       "   'stage': 'Launch',\n",
       "   'distance': '-1',\n",
       "   'town': 'Kallang/Whampoa',\n",
       "   'launchStartDate': '2022-02-17 10:00:00.0',\n",
       "   'ballotQtr': '2022-02',\n",
       "   'flatType': '3-Room (Income Ceiling $14,000), 4-Room',\n",
       "   'maxPrice': '675000',\n",
       "   'projectId': '2022-02_BTO_S1dOX04yQzM2XzE2NDI5ODg3MDcwMzQ'},\n",
       "  'hdbCategory': '1',\n",
       "  'region': 'CENTRAL REGION'},\n",
       " 'details': '<?xml version=\"1.0\" encoding=\"UTF-8\"?>\\n<template>\\n    <project-name>King George’s Heights</project-name>\\n    <standard-project-info>\\n        <key>\\n            <town>Kallang/Whampoa</town>\\n            <tooltip/>\\n            <uri/>\\n        </key>\\n        <key>\\n            <point>1584|1553</point>\\n        </key>\\n        <key>\\n            <latitude>1.3066965</latitude>\\n            <longitude>103.8592529</longitude>\\n        </key>\\n        <key>\\n            <launch-qtr>2022-02</launch-qtr>\\n        </key>\\n        <key>\\n            <completion-date>3Q2027</completion-date>\\n            <tooltip>\\n                \\n        This is an estimated date that the flat will be completed and ready for key collection, and the actual completion date will depend on the progress of construction works on site. As the Estimated Completion Date (ECD) is indicative only, HDB shall not be responsible for any damage or loss arising from a change in the ECD.\\n        &lt;br/>&lt;br/>\\n        After booking the flat, buyers may check for updates via My HDBPage on HDB InfoWEB, as the construction of the project progresses.\\n        &lt;br/>&lt;br/>\\n        Note: The contractual date in the Agreement for Lease by which HDB is required to deliver vacant possession of the booked flat to buyers is known as the Delivery Possession Date (DPD), which is 18 months after the ECD. Currently, the estimated DPD is from 31 Mar 2029.\\n      \\n            </tooltip>\\n            <uri/>\\n        </key>\\n        <key>\\n            <remaining-lease>99</remaining-lease>\\n            <tooltip>\\n        The 3- and 4-room flats are sold on a 99-year lease.\\n      </tooltip>\\n            <uri/>\\n        </key>\\n        <key>\\n            <selection-month>Apr to Dec 2022</selection-month>\\n        </key>\\n        <key>\\n            <est-waiting-time>59 months</est-waiting-time>\\n        </key>\\n        <key>\\n            <price-tooltip>\\n                \\n        The indicative price range of the flats exclude grants and are based on 99-year leases.&lt;br/>&lt;br/>\\n        Actual prices may vary based on the actual attributes of the flats at the time of selection. Find out details of the Optional Component Scheme offered for this project.\\n        \\n            </price-tooltip>\\n        </key>\\n        <unit-details>\\n            <ukey>\\n                <flat-type>3-Room (Income Ceiling $14,000)</flat-type>\\n                <supply>104</supply>\\n                <est-floor-area-lower>66</est-floor-area-lower>\\n                <est-floor-area-upper>66</est-floor-area-upper>\\n                <tooltip>Refers to the estimated area of the whole apartment, comprising the internal floor area and the air-conditioner ledge.</tooltip>\\n                <est-internal-floor-area-lower>63</est-internal-floor-area-lower>\\n                <est-internal-floor-area-upper>63</est-internal-floor-area-upper>\\n                <tooltip>Refers to the estimated area of the apartment computed based on the centre line of the apartment wall.</tooltip>\\n                <price-range-lower>353000</price-range-lower>\\n                <price-range-upper>462000</price-range-upper>\\n                <finishes-and-fittings-text>\\n                    <non-optional>\\n                        \\n            &lt;h4>Finishes and Fittings&lt;/h4>\\n            &lt;br/>\\n            &lt;h5>Non-Optional Finishes&lt;/h5>\\n            &lt;br/>\\n            &lt;p>More than just a well-designed and functional interior, the 3-room flats will come with the following finishes and fittings: &lt;/p>\\n            &lt;ul>\\n              &lt;li>Floor tiles in the:&lt;/li>\\n              &lt;ul>\\n                &lt;li>Bathrooms&lt;/li>\\n                &lt;li>Household shelter&lt;/li>\\n                &lt;li>Kitchen/ utility &lt;/li>\\n              &lt;/ul>\\n              &lt;li>Wall tiles in the:&lt;/li>\\n              &lt;ul>\\n                &lt;li>Bathrooms&lt;/li>\\n                &lt;li>Kitchen/ utility&lt;/li>\\n              &lt;/ul>\\n            &lt;/ul>\\n            \\n                    </non-optional>\\n                    <optional>\\n                        <br/>\\n                        <p>You can choose to install the following OCS items in the 3-room flat:</p>\\n                        <floor>\\n                            <header>Flooring for Living/ Dining, Dry Kitchen, and Bedrooms</header>\\n                            <price>3190</price>\\n                            <text>\\n                                \\n                &lt;ul>\\n                  &lt;li>Vinyl strip flooring in the bedrooms&lt;/li>\\n                  &lt;li>Polished porcelain floor tiles in the living/ dining, dry kitchen&lt;/li>\\n                &lt;/ul>\\n                \\n                            </text>\\n                        </floor>\\n                        <door>\\n                            <header>Internal Doors and Sanitary Fittings</header>\\n                            <price>2770</price>\\n                            <text>\\n                                \\n                &lt;ul>\\n                  &lt;li>2 laminated UPVC bedroom doors&lt;/li>\\n                  &lt;li>2 laminated UPVC folding bathroom doors&lt;/li>\\n                  &lt;li>Wash basin with tap mixer&lt;/li>\\n                  &lt;li>Shower set with bath/ shower mixer&lt;/li>\\n                &lt;/ul>\\n                \\n                            </text>\\n                        </door>\\n                    </optional>\\n                </finishes-and-fittings-text>\\n            </ukey>\\n            <ukey>\\n                <flat-type>4-Room</flat-type>\\n                <supply>294</supply>\\n                <est-floor-area-lower>89</est-floor-area-lower>\\n                <est-floor-area-upper>89</est-floor-area-upper>\\n                <tooltip>Refers to the estimated area of the whole apartment, comprising the internal floor area and the air-conditioner ledge.</tooltip>\\n                <est-internal-floor-area-lower>86</est-internal-floor-area-lower>\\n                <est-internal-floor-area-upper>86</est-internal-floor-area-upper>\\n                <tooltip>Refers to the estimated area of the apartment computed based on the centre line of the apartment wall.</tooltip>\\n                <price-range-lower>488000</price-range-lower>\\n                <price-range-upper>675000</price-range-upper>\\n                <finishes-and-fittings-text>\\n                    <non-optional>\\n                        \\n            &lt;h4>Finishes and Fittings&lt;/h4>\\n            &lt;br/>\\n            &lt;br>\\n            &lt;h5>Non-Optional Finishes&lt;/h5>\\n            &lt;br/>\\n            &lt;p>More than just a well-designed and functional interior, the 4-room flats will come with the following finishes and fittings: &lt;/p>\\n            &lt;ul>\\n              &lt;li>Floor tiles in the:&lt;/li>\\n              &lt;ul>\\n                &lt;li>Bathrooms&lt;/li>\\n                &lt;li>Household shelter&lt;/li>\\n                &lt;li>Kitchen and service yard &lt;/li>\\n              &lt;/ul>\\n              &lt;li>Wall tiles in the:&lt;/li>\\n              &lt;ul>\\n                &lt;li>Bathrooms&lt;/li>\\n                &lt;li>Kitchen&lt;/li>\\n              &lt;/ul>\\n            &lt;/ul>\\n            \\n                    </non-optional>\\n                    <optional>\\n                        <br/>\\n                        <p>You can choose to install the following OCS items in the 4-room flat:</p>\\n                        <floor>\\n                            <header>Flooring for Living/ Dining and Bedrooms</header>\\n                            <price>4740</price>\\n                            <text>\\n                                \\n                &lt;ul>\\n                  &lt;li>Vinyl strip flooring in the bedrooms&lt;/li>\\n                  &lt;li>Polished porcelain floor tiles in the living/ dining&lt;/li>\\n                &lt;/ul>\\n                \\n                            </text>\\n                        </floor>\\n                        <door>\\n                            <header>Internal Doors and Sanitary Fittings</header>\\n                            <price>3180</price>\\n                            <text>\\n                                \\n                &lt;ul>\\n                  &lt;li>3 laminated UPVC bedroom doors&lt;/li>\\n                  &lt;li>2 laminated UPVC folding bathroom doors&lt;/li>\\n                  &lt;li>Wash basin with tap mixer&lt;/li>\\n                  &lt;li>Shower set with bath/ shower mixer&lt;/li>\\n                &lt;/ul>\\n                \\n                            </text>\\n                        </door>\\n                    </optional>\\n                </finishes-and-fittings-text>\\n            </ukey>\\n        </unit-details>\\n        <overview>\\n            <p>\\n                \\n\\t\\t&lt;h6>Kallang/Whampoa&lt;/h6>\\n\\t\\t&lt;br/>\\n    King George’s Heights &lt;a class=\"audioBtn King-Georges-Heights\">&lt;i class=\"fas fa-volume-up\">&lt;/i>&lt;/a> is bounded by King George’s Avenue, Syed Alwi Road, and Rochor Canal, and located near Lavender MRT station. The development is offered under the new Prime Location Public Housing (PLH) model. Find out more about &lt;a href=\"https://www.hdb.gov.sg/cs/infoweb/residential/buying-a-flat/new/plh\">the PLH model&lt;/a>.\\n    &lt;br/>&lt;br/>\\n    The name \\'King George\\'s Heights\\' references the towering height of the residential block. It comprises 1 residential block with 2 wings of 33 and 47 storeys. You can choose from 398 units of 3- and 4-room flats.\\n    &lt;br/>&lt;br/>\\n    King George\\'s Heights is envisioned as a sanctuary by the canal. You can relax and enjoy a quiet respite at the various green spaces, such as the roof garden above the Multi-Storey Car Park and sky terraces at the residential block. A landscape trail leads you to the nearby Rochor Canal for a stroll by the water. Children’s playgrounds and adult and elderly fitness stations offer places for neighbourly interaction and daily exercise. Please refer to the site plan for the facilities provided in the development. Facilities in this development will be accessible by the public.\\n\\t\\t&lt;br/>&lt;br/>\\n\\t\\n            </p>\\n        </overview>\\n        <notes>\\n            <p>\\n                \\n         HDB precincts are planned to serve the evolving needs of the community. There are spaces catered for future inclusion of amenities/ facilities (such as childcare centres, elderly-related facilities, education centres, residents\\' network centres, day activity centres, etc), commercial facilities (such as shops and eating houses), mechanical and electrical rooms, and such other facilities depending on the prevailing needs. These spaces could be in the void decks, common property, car parks, or stand-alone community buildings.\\n         &lt;br/>&lt;br/>\\n         In addition, housing projects may be located near roads, railways, airbases, and land used for non-residential purposes. Hence, residents may experience higher noise levels. We have provided information on the surrounding land use, proposed facilities and their locations in the maps and plans of individual projects, where feasible. The information provided is indicatively based on the current planning intent of the relevant authorities and is subject to change from time to time.\\n         &lt;br/>&lt;br/>\\n         &lt;ul>\\n           &lt;li>Get answers to &lt;a href=\"https://www.hdb.gov.sg/cs/infoweb/residential/buying-a-flat/new/buying-process/application-procedure/faqs-for-sales-launch\">Frequently Asked Questions on sales launches&lt;/a>&lt;/li>\\n           &lt;li>Visit the virtual showflats at &lt;a href=\"https://www.hdb.gov.sg/mynicehomegallery?utm_source=Feb22website&amp;utm_medium=link&amp;utm_campaign=MNHG\">My Nice Home Gallery&lt;/a> and get interior decor ideas&lt;/li>\\n         &lt;/ul>\\n       \\n            </p>\\n        </notes>\\n    </standard-project-info>\\n    <template-body>\\n        <row>\\n            <header>Eco-Friendly Features</header>\\n        </row>\\n        <row>\\n            <p>\\n                \\n        &lt;p>To encourage green and sustainable living, King George’s Heights will have several eco-friendly features such as:&lt;/p>\\n        &lt;ul>\\n          &lt;li>Separate chutes for recyclable waste&lt;/li>\\n          &lt;li>Regenerative lifts to reduce energy consumption&lt;/li>\\n          &lt;li>Bicycle stands to encourage cycling as an environmentally-friendly form of transport&lt;/li>\\n          &lt;li>Parking spaces to facilitate future provision of electrical vehicle charging stations&lt;/li> \\n          &lt;li>Use of sustainable products in the development&lt;/li>\\n          &lt;li>Active, Beautiful, Clean Waters design features to clean rainwater and beautify the landscapes&lt;/li>\\n        &lt;/ul>\\n        \\n            </p>\\n        </row>\\n        <row>\\n            <header>Smart Solutions</header>\\n        </row>\\n        <row>\\n            <p>\\n                \\n        &lt;p>King George’s Heights will come with the following smart solutions to reduce energy usage, and contribute to a more sustainable and safer living environment: &lt;/p>\\n        &lt;ul>\\n          &lt;li>Smart-Enabled Homes with provisions to support easy installation of smart systems&lt;/li>\\n          &lt;li>Smart Lighting in common areas to reduce energy usage&lt;/li>\\n        &lt;/ul>\\n        \\n            </p>\\n        </row>\\n        <row>\\n            <template1>\\n                <photo-folder>2022-02/bto/kwn_n2c36/template1</photo-folder>\\n                <photos>\\n                    <photo>2022-02/bto/kwn_n2c36/template1/1.jpg</photo>\\n                    <photo>2022-02/bto/kwn_n2c36/template1/2.jpg</photo>\\n                    <photo>2022-02/bto/kwn_n2c36/template1/3.jpg</photo>\\n                </photos>\\n            </template1>\\n        </row>\\n        <row>\\n            <header>About Kallang/Whampoa Town</header>\\n        </row>\\n        <row>\\n            <p>\\n                \\n        Enjoy the convenience of the nearby Berseh Food Centre, Jalan Besar Plaza and Kitchener Complex, where you can shop for daily necessities or explore more food options at the numerous shops, eateries, and cafes. For more retail therapy, head over to City Square Mall or Mustafa Centre. Visit &lt;a href=\"https://www.hdb.gov.sg/cs/infoweb/residential/where2shop/explore/kallang-whampoa\">Where2Shop@HDB&lt;/a> to discover more HDB heartland shops in Kallang/Whampoa town.\\n        &lt;br/>&lt;br/>\\n        For the active, there are several sports and recreational facilities nearby. You can pick up a new hobby or skill at the Jalan Besar Community Club or head to Jalan Besar Stadium and Swimming Complex for some workouts. Parents can consider Farrer Park Primary School for school-going children.  \\n        &lt;br/>&lt;br/>\\n        King George’s Heights is served by Lavender and Jalan Besar MRT stations, while drivers can access the Central Expressway (CTE) which connects them to other destinations.\\n        &lt;br/>&lt;br/>\\n        \\n            </p>\\n        </row>\\n        <row>\\n            <template2>\\n                <photo-folder>2022-02/bto/kwn_n2c36/template2</photo-folder>\\n                <photos>\\n                    <photo>2022-02/bto/kwn_n2c36/template2/1.jpg</photo>\\n                    <photo>2022-02/bto/kwn_n2c36/template2/2.jpg</photo>\\n                    <photo>2022-02/bto/kwn_n2c36/template2/3.jpg</photo>\\n                    <photo>2022-02/bto/kwn_n2c36/template2/4.jpg</photo>\\n                    <photo>2022-02/bto/kwn_n2c36/template2/6.jpg</photo>\\n                </photos>\\n            </template2>\\n        </row>\\n    </template-body>\\n    <resources>\\n        <town-map>2022-02/bto/kwn_n2c36/townmap/townmap_kwn_n2c36.jpg</town-map>\\n        <carousel>\\n            <link>2022-02/bto/kwn_n2c36/carousel/01_perspective.jpg</link>\\n            <link>2022-02/bto/kwn_n2c36/carousel/02_perspective.jpg</link>\\n            <link>2022-02/bto/kwn_n2c36/carousel/03_siteplan_kwn_n2c36.jpg</link>\\n        </carousel>\\n        <sound>2022-02/bto/kwn_n2c36/sound/kwn_n2c36.mp3</sound>\\n        <genspecs>\\n            <genspecs-3rm>2022-02/bto/kwn_n2c36/genspecs/genspecs_kwn_n2c36_3rm_4rm.jpg</genspecs-3rm>\\n            <genspecs-4rm>2022-02/bto/kwn_n2c36/genspecs/genspecs_kwn_n2c36_3rm_4rm.jpg</genspecs-4rm>\\n        </genspecs>\\n        <layoutideas>\\n            <layoutideas-3rm>2022-02/bto/kwn_n2c36/layoutideas/layoutideas_kwn_n2c36_3rm.jpg</layoutideas-3rm>\\n            <layoutideas-4rm>2022-02/bto/kwn_n2c36/layoutideas/layoutideas_kwn_n2c36_4rm.jpg</layoutideas-4rm>\\n        </layoutideas>\\n        <resale>\\n            <resale-3rm>2022-02/bto/kwn_n2c36/resale/resale_kwn_n2c36_3rm.jpg</resale-3rm>\\n            <resale-4rm>2022-02/bto/kwn_n2c36/resale/resale_kwn_n2c36_4rm.jpg</resale-4rm>\\n        </resale>\\n        <oydh>\\n            <oydh-3rm>2022-02/bto/kwn_n2c36/oydh/oydh_kwn_n2c36_3rm.jpg</oydh-3rm>\\n            <oydh-4rm>2022-02/bto/kwn_n2c36/oydh/oydh_kwn_n2c36_4rm.jpg</oydh-4rm>\\n        </oydh>\\n        <ocsleaflet>\\n            <ocsleaflet-3rm>2022-02/bto/kwn_n2c36/ocsleaflet/ocsleaflet_kwn_n2c36_3rm_4rm(1).png</ocsleaflet-3rm>\\n            <ocsleaflet-4rm>2022-02/bto/kwn_n2c36/ocsleaflet/ocsleaflet_kwn_n2c36_3rm_4rm(1).png</ocsleaflet-4rm>\\n        </ocsleaflet>\\n        <ocs/>\\n    </resources>\\n</template>'}"
      ]
     },
     "execution_count": 13,
     "metadata": {},
     "output_type": "execute_result"
    }
   ],
   "source": [
    "jsonstr[1]"
   ]
  }
 ],
 "metadata": {
  "kernelspec": {
   "display_name": "Python 3",
   "language": "python",
   "name": "python3"
  },
  "language_info": {
   "codemirror_mode": {
    "name": "ipython",
    "version": 3
   },
   "file_extension": ".py",
   "mimetype": "text/x-python",
   "name": "python",
   "nbconvert_exporter": "python",
   "pygments_lexer": "ipython3",
   "version": "3.8.12"
  },
  "papermill": {
   "default_parameters": {},
   "duration": 414.03848,
   "end_time": "2021-05-31T15:02:22.522059",
   "environment_variables": {},
   "exception": null,
   "input_path": "__notebook__.ipynb",
   "output_path": "__notebook__.ipynb",
   "parameters": {},
   "start_time": "2021-05-31T14:55:28.483579",
   "version": "2.3.3"
  }
 },
 "nbformat": 4,
 "nbformat_minor": 5
}
