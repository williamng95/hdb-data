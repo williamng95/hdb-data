{
 "cells": [
  {
   "cell_type": "code",
   "execution_count": 1,
   "id": "married-notification",
   "metadata": {
    "_cell_guid": "b1076dfc-b9ad-4769-8c92-a6c4dae69d19",
    "_uuid": "8f2839f25d086af736a60e9eeb907d3b93b6e0e5",
    "execution": {
     "iopub.execute_input": "2021-05-31T14:55:36.784646Z",
     "iopub.status.busy": "2021-05-31T14:55:36.783465Z",
     "iopub.status.idle": "2021-05-31T14:55:36.793467Z",
     "shell.execute_reply": "2021-05-31T14:55:36.793997Z",
     "shell.execute_reply.started": "2021-05-31T14:19:25.571023Z"
    },
    "papermill": {
     "duration": 0.023771,
     "end_time": "2021-05-31T14:55:36.794298",
     "exception": false,
     "start_time": "2021-05-31T14:55:36.770527",
     "status": "completed"
    },
    "tags": []
   },
   "outputs": [],
   "source": [
    "# This Python 3 environment comes with many helpful analytics libraries installed\n",
    "# It is defined by the kaggle/python Docker image: https://github.com/kaggle/docker-python\n",
    "# For example, here's several helpful packages to load\n",
    "\n",
    "import numpy as np # linear algebra\n",
    "import pandas as pd # data processing, CSV file I/O (e.g. pd.read_csv)\n",
    "\n",
    "# Input data files are available in the read-only \"../input/\" directory\n",
    "# For example, running this (by clicking run or pressing Shift+Enter) will list all files under the input directory\n",
    "\n",
    "import os\n",
    "for dirname, _, filenames in os.walk('/kaggle/input'):\n",
    "    for filename in filenames:\n",
    "        print(os.path.join(dirname, filename))\n",
    "\n",
    "# You can write up to 20GB to the current directory (/kaggle/working/) that gets preserved as output when you create a version using \"Save & Run All\" \n",
    "# You can also write temporary files to /kaggle/temp/, but they won't be saved outside of the current session"
   ]
  },
  {
   "cell_type": "code",
   "execution_count": 2,
   "id": "proper-sentence",
   "metadata": {
    "execution": {
     "iopub.execute_input": "2021-05-31T14:55:36.814836Z",
     "iopub.status.busy": "2021-05-31T14:55:36.814161Z",
     "iopub.status.idle": "2021-05-31T14:55:36.819478Z",
     "shell.execute_reply": "2021-05-31T14:55:36.820063Z",
     "shell.execute_reply.started": "2021-05-31T14:19:25.585437Z"
    },
    "papermill": {
     "duration": 0.01724,
     "end_time": "2021-05-31T14:55:36.820239",
     "exception": false,
     "start_time": "2021-05-31T14:55:36.802999",
     "status": "completed"
    },
    "tags": []
   },
   "outputs": [],
   "source": [
    "import requests\n",
    "import json\n",
    "\n",
    "s=requests.Session()\n",
    "s.headers = {\n",
    "    'authority': 'homes.hdb.gov.sg',\n",
    "    'sec-ch-ua': '\" Not;A Brand\";v=\"99\", \"Google Chrome\";v=\"91\", \"Chromium\";v=\"91\"',\n",
    "    'accept': 'application/json, text/plain, */*',\n",
    "    'sessionid': 'a',\n",
    "    'sec-ch-ua-mobile': '?0',\n",
    "    'user-agent': 'Mozilla/5.0 (Windows NT 10.0; Win64; x64) AppleWebKit/537.36 (KHTML, like Gecko) Chrome/91.0.4472.77 Safari/537.36',\n",
    "    'content-type': 'application/json',\n",
    "    'origin': 'https://homes.hdb.gov.sg',\n",
    "    'sec-fetch-site': 'same-origin',\n",
    "    'sec-fetch-mode': 'cors',\n",
    "    'sec-fetch-dest': 'empty',\n",
    "    'referer': 'https://homes.hdb.gov.sg/home/finding-a-flat',\n",
    "    'accept-language': 'en-US,en;q=0.9,zh-CN;q=0.8,zh;q=0.7',\n",
    "}\n"
   ]
  },
  {
   "cell_type": "code",
   "execution_count": 3,
   "id": "dimensional-cabinet",
   "metadata": {
    "execution": {
     "iopub.execute_input": "2021-05-31T14:55:36.840345Z",
     "iopub.status.busy": "2021-05-31T14:55:36.839711Z",
     "iopub.status.idle": "2021-05-31T14:55:39.721880Z",
     "shell.execute_reply": "2021-05-31T14:55:39.721266Z",
     "shell.execute_reply.started": "2021-05-31T14:19:25.603058Z"
    },
    "papermill": {
     "duration": 2.893202,
     "end_time": "2021-05-31T14:55:39.722045",
     "exception": false,
     "start_time": "2021-05-31T14:55:36.828843",
     "status": "completed"
    },
    "tags": []
   },
   "outputs": [
    {
     "data": {
      "text/plain": [
       "<Response [200]>"
      ]
     },
     "execution_count": 3,
     "metadata": {},
     "output_type": "execute_result"
    }
   ],
   "source": [
    "\n",
    "data = '{\"location\":\"\",\"coordinates\":[[\"\",\"\"]],\"range\":\"2\",\"priceRangeLower\":\"0\",\"priceRangeUpper\":\"0\",\"flatType\":\"\",\"waitingTime\":\"\",\"modeOfSale\":\"BTO,SBF\",\"floorRange\":\"\",\"remainingLeaseRangeLower\":1,\"remainingLeaseRangeUpper\":99,\"ethnicGroup\":\"Chinese\",\"rank\":\"Location, Price Range, Flat Type, Remaining Lease\"}'\n",
    "\n",
    "response = s.post('https://homes.hdb.gov.sg/home-api/public/v1/map/getCoordinatesByFilters', data=data)\n",
    "\n",
    "response\n"
   ]
  },
  {
   "cell_type": "code",
   "execution_count": 4,
   "id": "fleet-establishment",
   "metadata": {
    "execution": {
     "iopub.execute_input": "2021-05-31T14:55:39.758938Z",
     "iopub.status.busy": "2021-05-31T14:55:39.758196Z",
     "iopub.status.idle": "2021-05-31T15:02:20.323253Z",
     "shell.execute_reply": "2021-05-31T15:02:20.322601Z",
     "shell.execute_reply.started": "2021-05-31T14:51:49.790513Z"
    },
    "papermill": {
     "duration": 400.591757,
     "end_time": "2021-05-31T15:02:20.323411",
     "exception": false,
     "start_time": "2021-05-31T14:55:39.731654",
     "status": "completed"
    },
    "tags": []
   },
   "outputs": [],
   "source": [
    "jsonstr=json.loads(response.text)\n",
    "detailedUrl='https://resources.homes.hdb.gov.sg/nf/{}.xml'\n",
    "# https://resources.homes.hdb.gov.sg/nf/2021-05/bto/tg_d2c4/2021-05_BTO_VEdfRDJDNF8xNjE5NTAyODQxMDYz.xml\n",
    "#all project details xml link follow this format - works well for BTO\n",
    "for x in jsonstr:\n",
    "    storageDict={}\n",
    "#     to try and reduce API calls on price range\n",
    "    x['properties']['description']=x['properties']['description'][0]\n",
    "    if x['properties']['listingType']=='BTO':\n",
    "        projPath=x['properties']['description'].get('photoUrl','').rpartition('/')[0]\n",
    "        newUrl=detailedUrl.format(projPath+'/'+x['properties']['description']['projectId'])\n",
    "    elif x['properties']['listingType']=='SBF':\n",
    "        ballotQtr=x['properties']['description']['ballotQtr']\n",
    "        projectID=x['properties']['description']['projectId']\n",
    "        projDict='{\"projectId\":\"'+projectID+'\"}'\n",
    "        storageDict={}\n",
    "        x['availability']=json.loads(s.post('https://homes.hdb.gov.sg/home-api/public/v1/launch/getProjectAvailabilityAndEthnic',data=projDict).text)\n",
    "        for block,value in x['availability']['projectBlockFlatTypeInfoMap'].items():\n",
    "            for flatType in value.keys():\n",
    "                if storageDict.get(flatType) is None:\n",
    "                    priceDict='{\"projectId\":\"'+projectID+'\",\"flatType\":\"'+flatType+'\"}'\n",
    "                    storageDict[flatType]=s.post('https://homes.hdb.gov.sg/home-api/public/v1/launch/getPriceRangeAcrossTownByProjectIdAndFlatType',data=priceDict).text\n",
    "                x['availability']['projectBlockFlatTypeInfoMap'][block][flatType]['areaPrice']=storageDict[flatType]\n",
    "                    \n",
    "        newUrl=detailedUrl.format(ballotQtr+'/sbf/unit_xml/UNIT_'+projectID)\n",
    "    details=s.get(newUrl)\n",
    "    x['details']=details.text"
   ]
  },
  {
   "cell_type": "code",
   "execution_count": 5,
   "id": "appropriate-fifteen",
   "metadata": {
    "execution": {
     "iopub.execute_input": "2021-05-31T15:02:20.386099Z",
     "iopub.status.busy": "2021-05-31T15:02:20.360352Z",
     "iopub.status.idle": "2021-05-31T15:02:20.471580Z",
     "shell.execute_reply": "2021-05-31T15:02:20.472294Z",
     "shell.execute_reply.started": "2021-05-31T14:28:36.189382Z"
    },
    "papermill": {
     "duration": 0.139741,
     "end_time": "2021-05-31T15:02:20.472478",
     "exception": false,
     "start_time": "2021-05-31T15:02:20.332737",
     "status": "completed"
    },
    "tags": []
   },
   "outputs": [
    {
     "data": {
      "text/html": [
       "<div>\n",
       "<style scoped>\n",
       "    .dataframe tbody tr th:only-of-type {\n",
       "        vertical-align: middle;\n",
       "    }\n",
       "\n",
       "    .dataframe tbody tr th {\n",
       "        vertical-align: top;\n",
       "    }\n",
       "\n",
       "    .dataframe thead th {\n",
       "        text-align: right;\n",
       "    }\n",
       "</style>\n",
       "<table border=\"1\" class=\"dataframe\">\n",
       "  <thead>\n",
       "    <tr style=\"text-align: right;\">\n",
       "      <th></th>\n",
       "      <th>coordinates</th>\n",
       "      <th>details</th>\n",
       "      <th>properties.address</th>\n",
       "      <th>properties.listingType</th>\n",
       "      <th>properties.description</th>\n",
       "      <th>properties.hdbCategory</th>\n",
       "      <th>properties.region</th>\n",
       "      <th>availability.availabilitySet</th>\n",
       "      <th>availability.projectBlockFlatTypeInfoMap</th>\n",
       "    </tr>\n",
       "  </thead>\n",
       "  <tbody>\n",
       "    <tr>\n",
       "      <th>0</th>\n",
       "      <td>[1.2730969, 103.8082856]</td>\n",
       "      <td>&lt;?xml version=\"1.0\" encoding=\"UTF-8\" standalon...</td>\n",
       "      <td>Telok Blangah Beacon</td>\n",
       "      <td>BTO</td>\n",
       "      <td>{'photoUrl': '2021-05/bto/bm_n1c39b/bm_n1c39b_...</td>\n",
       "      <td>1</td>\n",
       "      <td>CENTRAL REGION</td>\n",
       "      <td>NaN</td>\n",
       "      <td>NaN</td>\n",
       "    </tr>\n",
       "    <tr>\n",
       "      <th>1</th>\n",
       "      <td>[1.3271563, 103.8892293]</td>\n",
       "      <td>&lt;?xml version=\"1.0\" encoding=\"UTF-8\" standalon...</td>\n",
       "      <td>MacPherson Weave</td>\n",
       "      <td>BTO</td>\n",
       "      <td>{'photoUrl': '2021-05/bto/gl_n1c13/gl_n1c13_th...</td>\n",
       "      <td>1</td>\n",
       "      <td>CENTRAL REGION</td>\n",
       "      <td>NaN</td>\n",
       "      <td>NaN</td>\n",
       "    </tr>\n",
       "    <tr>\n",
       "      <th>2</th>\n",
       "      <td>[1.4317643, 103.7830138]</td>\n",
       "      <td>&lt;?xml version=\"1.0\" encoding=\"UTF-8\" standalon...</td>\n",
       "      <td>Woodgrove Ascent</td>\n",
       "      <td>BTO</td>\n",
       "      <td>{'photoUrl': '2021-05/bto/wl_n3c16/wl_n3c16_th...</td>\n",
       "      <td>1</td>\n",
       "      <td>NORTH REGION</td>\n",
       "      <td>NaN</td>\n",
       "      <td>NaN</td>\n",
       "    </tr>\n",
       "    <tr>\n",
       "      <th>3</th>\n",
       "      <td>[1.3607471, 103.7243003]</td>\n",
       "      <td>&lt;?xml version=\"1.0\" encoding=\"UTF-8\" standalon...</td>\n",
       "      <td>Garden Bloom @ Tengah</td>\n",
       "      <td>BTO</td>\n",
       "      <td>{'photoUrl': '2021-05/bto/tg_d2c4/tg_d2c4_thum...</td>\n",
       "      <td>1</td>\n",
       "      <td>WEST REGION</td>\n",
       "      <td>NaN</td>\n",
       "      <td>NaN</td>\n",
       "    </tr>\n",
       "    <tr>\n",
       "      <th>4</th>\n",
       "      <td>[1.3766745369726854, 103.73789561376547]</td>\n",
       "      <td>&lt;?xml version=\"1.0\" encoding=\"UTF-8\" standalon...</td>\n",
       "      <td>Sunshine Court</td>\n",
       "      <td>SBF</td>\n",
       "      <td>{'maxRemainingLease': '45', 'stage': 'Launch',...</td>\n",
       "      <td>2</td>\n",
       "      <td>WEST REGION</td>\n",
       "      <td>[4312, 4313, 4314, 4315, 4316, 4317]</td>\n",
       "      <td>{'476A': {'2-room flexi': {'block': '476A', 'f...</td>\n",
       "    </tr>\n",
       "  </tbody>\n",
       "</table>\n",
       "</div>"
      ],
      "text/plain": [
       "                                coordinates  \\\n",
       "0                  [1.2730969, 103.8082856]   \n",
       "1                  [1.3271563, 103.8892293]   \n",
       "2                  [1.4317643, 103.7830138]   \n",
       "3                  [1.3607471, 103.7243003]   \n",
       "4  [1.3766745369726854, 103.73789561376547]   \n",
       "\n",
       "                                             details     properties.address  \\\n",
       "0  <?xml version=\"1.0\" encoding=\"UTF-8\" standalon...   Telok Blangah Beacon   \n",
       "1  <?xml version=\"1.0\" encoding=\"UTF-8\" standalon...       MacPherson Weave   \n",
       "2  <?xml version=\"1.0\" encoding=\"UTF-8\" standalon...       Woodgrove Ascent   \n",
       "3  <?xml version=\"1.0\" encoding=\"UTF-8\" standalon...  Garden Bloom @ Tengah   \n",
       "4  <?xml version=\"1.0\" encoding=\"UTF-8\" standalon...         Sunshine Court   \n",
       "\n",
       "  properties.listingType                             properties.description  \\\n",
       "0                    BTO  {'photoUrl': '2021-05/bto/bm_n1c39b/bm_n1c39b_...   \n",
       "1                    BTO  {'photoUrl': '2021-05/bto/gl_n1c13/gl_n1c13_th...   \n",
       "2                    BTO  {'photoUrl': '2021-05/bto/wl_n3c16/wl_n3c16_th...   \n",
       "3                    BTO  {'photoUrl': '2021-05/bto/tg_d2c4/tg_d2c4_thum...   \n",
       "4                    SBF  {'maxRemainingLease': '45', 'stage': 'Launch',...   \n",
       "\n",
       "  properties.hdbCategory properties.region  \\\n",
       "0                      1    CENTRAL REGION   \n",
       "1                      1    CENTRAL REGION   \n",
       "2                      1      NORTH REGION   \n",
       "3                      1       WEST REGION   \n",
       "4                      2       WEST REGION   \n",
       "\n",
       "           availability.availabilitySet  \\\n",
       "0                                   NaN   \n",
       "1                                   NaN   \n",
       "2                                   NaN   \n",
       "3                                   NaN   \n",
       "4  [4312, 4313, 4314, 4315, 4316, 4317]   \n",
       "\n",
       "            availability.projectBlockFlatTypeInfoMap  \n",
       "0                                                NaN  \n",
       "1                                                NaN  \n",
       "2                                                NaN  \n",
       "3                                                NaN  \n",
       "4  {'476A': {'2-room flexi': {'block': '476A', 'f...  "
      ]
     },
     "execution_count": 5,
     "metadata": {},
     "output_type": "execute_result"
    }
   ],
   "source": [
    "df=pd.json_normalize(jsonstr,max_level=1)\n",
    "df.head(5)"
   ]
  },
  {
   "cell_type": "code",
   "execution_count": 6,
   "id": "operating-archive",
   "metadata": {
    "execution": {
     "iopub.execute_input": "2021-05-31T15:02:20.495007Z",
     "iopub.status.busy": "2021-05-31T15:02:20.494395Z",
     "iopub.status.idle": "2021-05-31T15:02:20.502708Z",
     "shell.execute_reply": "2021-05-31T15:02:20.503174Z",
     "shell.execute_reply.started": "2021-05-31T14:34:40.926222Z"
    },
    "papermill": {
     "duration": 0.021081,
     "end_time": "2021-05-31T15:02:20.503350",
     "exception": false,
     "start_time": "2021-05-31T15:02:20.482269",
     "status": "completed"
    },
    "tags": []
   },
   "outputs": [
    {
     "data": {
      "text/plain": [
       "'<?xml version=\"1.0\" encoding=\"UTF-8\" standalone=\"no\"?>\\n<template>\\n    <standard-project-info>\\n        <unit-details>\\n            <availability>\\n                <block>\\n                    <block-number>488B</block-number>\\n                    <flat-type>\\n                        <type>2-Room Flexi</type>\\n                        <level>\\n                            <level-number>07</level-number>\\n                            <unit>\\n                                <unit-id>4318</unit-id>\\n                                <unit-number>141</unit-number>\\n                                <area>47</area>\\n                                <price>84900</price>\\n                                <deliveryPossessionDate>Keys Available</deliveryPossessionDate>\\n                                <estimatedCompletionDate>-</estimatedCompletionDate>\\n                                <short-lease-price>\\n                                    <tenure-45>84900</tenure-45>\\n                                    <tenure-40>81400</tenure-40>\\n                                    <tenure-35>77300</tenure-35>\\n                                    <tenure-30>72400</tenure-30>\\n                                    <tenure-25>66700</tenure-25>\\n                                    <tenure-20>59700</tenure-20>\\n                                    <tenure-15>51300</tenure-15>\\n                                </short-lease-price>\\n                                <price-tooltip>&lt;![CDATA[&lt;br&gt;$84,900 - 45 Years &lt;br&gt;$81,400 - 40 Years &lt;br&gt;$77,300 - 35 Years &lt;br&gt;$72,400 - 30 Years &lt;br&gt;$66,700 - 25 Years &lt;br&gt;$59,700 - 20 Years &lt;br&gt;$51,300 - 15 Years &lt;br&gt;</price-tooltip>\\n                                <ocs/>\\n                                <re-purchase-tooltip>You may view floor plans and photographs (if available) of this specific unit.</re-purchase-tooltip>\\n                            </unit>\\n                        </level>\\n                        <details>\\n                            <streetName>Choa Chu Kang Ave 5</streetName>\\n                        </details>\\n                        <price-range-upper>84900</price-range-upper>\\n                        <price-range-lower>39200</price-range-lower>\\n                        <notes>Mouseover to see prices for all lease periods.</notes>\\n                        <level>\\n                            <level-number>04</level-number>\\n                            <unit>\\n                                <unit-id>4319</unit-id>\\n                                <unit-number>151</unit-number>\\n                                <area>37</area>\\n                                <price>64100</price>\\n                                <deliveryPossessionDate>Keys Available</deliveryPossessionDate>\\n                                <estimatedCompletionDate>-</estimatedCompletionDate>\\n                                <short-lease-price>\\n                                    <tenure-45>64100</tenure-45>\\n                                    <tenure-40>61500</tenure-40>\\n                                    <tenure-35>58400</tenure-35>\\n                                    <tenure-30>54900</tenure-30>\\n                                    <tenure-25>50600</tenure-25>\\n                                    <tenure-20>45500</tenure-20>\\n                                    <tenure-15>39200</tenure-15>\\n                                </short-lease-price>\\n                                <price-tooltip>&lt;![CDATA[&lt;br&gt;$64,100 - 45 Years &lt;br&gt;$61,500 - 40 Years &lt;br&gt;$58,400 - 35 Years &lt;br&gt;$54,900 - 30 Years &lt;br&gt;$50,600 - 25 Years &lt;br&gt;$45,500 - 20 Years &lt;br&gt;$39,200 - 15 Years &lt;br&gt;</price-tooltip>\\n                                <ocs/>\\n                                <re-purchase-tooltip>You may view floor plans and photographs (if available) of this specific unit.</re-purchase-tooltip>\\n                            </unit>\\n                        </level>\\n                    </flat-type>\\n                </block>\\n            </availability>\\n        </unit-details>\\n        <key>\\n            <town>Choa Chu Kang</town>\\n        </key>\\n        <key>\\n            <completion-date>-</completion-date>\\n        </key>\\n        <key>\\n            <remaining-lease>15 - 45 years</remaining-lease>\\n        </key>\\n        <key>\\n            <possession-date>Keys Available</possession-date>\\n        </key>\\n    </standard-project-info>\\n    <project-name>Sunshine Gardens</project-name>\\n</template>\\n'"
      ]
     },
     "execution_count": 6,
     "metadata": {},
     "output_type": "execute_result"
    }
   ],
   "source": [
    "df['details'][5]"
   ]
  },
  {
   "cell_type": "code",
   "execution_count": 7,
   "id": "exotic-collection",
   "metadata": {
    "execution": {
     "iopub.execute_input": "2021-05-31T15:02:20.529590Z",
     "iopub.status.busy": "2021-05-31T15:02:20.528801Z",
     "iopub.status.idle": "2021-05-31T15:02:20.816651Z",
     "shell.execute_reply": "2021-05-31T15:02:20.815880Z",
     "shell.execute_reply.started": "2021-05-31T14:34:45.196417Z"
    },
    "papermill": {
     "duration": 0.303481,
     "end_time": "2021-05-31T15:02:20.816854",
     "exception": false,
     "start_time": "2021-05-31T15:02:20.513373",
     "status": "completed"
    },
    "tags": []
   },
   "outputs": [
    {
     "name": "stderr",
     "output_type": "stream",
     "text": [
      "/opt/conda/lib/python3.7/site-packages/pandas/core/generic.py:2621: PerformanceWarning: \n",
      "your performance may suffer as PyTables will pickle object types that it cannot\n",
      "map directly to c-types [inferred_type->mixed,key->block0_values] [items->Index(['coordinates', 'details', 'properties.address',\n",
      "       'properties.listingType', 'properties.description',\n",
      "       'properties.hdbCategory', 'properties.region',\n",
      "       'availability.availabilitySet',\n",
      "       'availability.projectBlockFlatTypeInfoMap'],\n",
      "      dtype='object')]\n",
      "\n",
      "  encoding=encoding,\n"
     ]
    }
   ],
   "source": [
    "df.to_hdf('hdbSaleDATA.h5','HDBSALES')\n",
    "df.to_pickle('hdbSalesDATA.pkl')\n",
    "with open(\"hdbSaleDATA.json\", \"w\") as write_file:\n",
    "    json.dump(jsonstr, write_file)"
   ]
  },
  {
   "cell_type": "code",
   "execution_count": 8,
   "id": "rapid-rouge",
   "metadata": {
    "execution": {
     "iopub.execute_input": "2021-05-31T15:02:20.845345Z",
     "iopub.status.busy": "2021-05-31T15:02:20.844368Z",
     "iopub.status.idle": "2021-05-31T15:02:20.848692Z",
     "shell.execute_reply": "2021-05-31T15:02:20.848172Z",
     "shell.execute_reply.started": "2021-05-31T14:35:01.479838Z"
    },
    "papermill": {
     "duration": 0.020653,
     "end_time": "2021-05-31T15:02:20.848835",
     "exception": false,
     "start_time": "2021-05-31T15:02:20.828182",
     "status": "completed"
    },
    "tags": []
   },
   "outputs": [
    {
     "data": {
      "text/plain": [
       "{'availabilitySet': ['4320', '4321', '4322', '4323'],\n",
       " 'projectBlockFlatTypeInfoMap': {'574': {'2-room flexi': {'block': '574',\n",
       "    'flatType': '2-room flexi',\n",
       "    'chinese': 1,\n",
       "    'malay': 1,\n",
       "    'indian': 1,\n",
       "    'areaPrice': '{\"priceRangeUpper\":132300,\"priceRangeLower\":39100}'}},\n",
       "  '570': {'2-room flexi': {'block': '570',\n",
       "    'flatType': '2-room flexi',\n",
       "    'chinese': 1,\n",
       "    'malay': 1,\n",
       "    'indian': 1,\n",
       "    'areaPrice': '{\"priceRangeUpper\":132300,\"priceRangeLower\":39100}'}},\n",
       "  '571': {'2-room flexi': {'block': '571',\n",
       "    'flatType': '2-room flexi',\n",
       "    'chinese': 2,\n",
       "    'malay': 2,\n",
       "    'indian': 2,\n",
       "    'areaPrice': '{\"priceRangeUpper\":132300,\"priceRangeLower\":39100}'}}}}"
      ]
     },
     "execution_count": 8,
     "metadata": {},
     "output_type": "execute_result"
    }
   ],
   "source": [
    "jsonstr[6]['availability']"
   ]
  },
  {
   "cell_type": "code",
   "execution_count": null,
   "id": "prime-venezuela",
   "metadata": {
    "execution": {
     "iopub.status.busy": "2021-05-31T14:28:36.457998Z",
     "iopub.status.idle": "2021-05-31T14:28:36.458705Z"
    },
    "papermill": {
     "duration": 0.010809,
     "end_time": "2021-05-31T15:02:20.870529",
     "exception": false,
     "start_time": "2021-05-31T15:02:20.859720",
     "status": "completed"
    },
    "tags": []
   },
   "outputs": [],
   "source": [
    "\n"
   ]
  }
 ],
 "metadata": {
  "kernelspec": {
   "display_name": "Python 3",
   "language": "python",
   "name": "python3"
  },
  "language_info": {
   "codemirror_mode": {
    "name": "ipython",
    "version": 3
   },
   "file_extension": ".py",
   "mimetype": "text/x-python",
   "name": "python",
   "nbconvert_exporter": "python",
   "pygments_lexer": "ipython3",
   "version": "3.7.10"
  },
  "papermill": {
   "default_parameters": {},
   "duration": 414.03848,
   "end_time": "2021-05-31T15:02:22.522059",
   "environment_variables": {},
   "exception": null,
   "input_path": "__notebook__.ipynb",
   "output_path": "__notebook__.ipynb",
   "parameters": {},
   "start_time": "2021-05-31T14:55:28.483579",
   "version": "2.3.3"
  }
 },
 "nbformat": 4,
 "nbformat_minor": 5
}
