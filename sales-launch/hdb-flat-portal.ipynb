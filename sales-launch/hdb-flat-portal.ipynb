{
 "cells": [
  {
   "cell_type": "code",
   "execution_count": 1,
   "id": "married-notification",
   "metadata": {
    "_cell_guid": "b1076dfc-b9ad-4769-8c92-a6c4dae69d19",
    "_uuid": "8f2839f25d086af736a60e9eeb907d3b93b6e0e5",
    "execution": {
     "iopub.execute_input": "2021-05-31T14:55:36.784646Z",
     "iopub.status.busy": "2021-05-31T14:55:36.783465Z",
     "iopub.status.idle": "2021-05-31T14:55:36.793467Z",
     "shell.execute_reply": "2021-05-31T14:55:36.793997Z",
     "shell.execute_reply.started": "2021-05-31T14:19:25.571023Z"
    },
    "papermill": {
     "duration": 0.023771,
     "end_time": "2021-05-31T14:55:36.794298",
     "exception": false,
     "start_time": "2021-05-31T14:55:36.770527",
     "status": "completed"
    },
    "tags": []
   },
   "outputs": [],
   "source": [
    "# This Python 3 environment comes with many helpful analytics libraries installed\n",
    "# It is defined by the kaggle/python Docker image: https://github.com/kaggle/docker-python\n",
    "# For example, here's several helpful packages to load\n",
    "\n",
    "import numpy as np # linear algebra\n",
    "import pandas as pd # data processing, CSV file I/O (e.g. pd.read_csv)\n",
    "from pathlib import Path\n",
    "from datetime import datetime\n",
    "import time\n",
    "from tqdm.notebook import tqdm\n",
    "# Input data files are available in the read-only \"../input/\" directory\n",
    "# For example, running this (by clicking run or pressing Shift+Enter) will list all files under the input directory\n",
    "\n",
    "import os\n",
    "# for dirname, _, filenames in os.walk('/kaggle/input'):\n",
    "#     for filename in filenames:\n",
    "#         print(os.path.join(dirname, filename))\n",
    "\n",
    "# You can write up to 20GB to the current directory (/kaggle/working/) that gets preserved as output when you create a version using \"Save & Run All\" \n",
    "# You can also write temporary files to /kaggle/temp/, but they won't be saved outside of the current session"
   ]
  },
  {
   "cell_type": "code",
   "execution_count": 2,
   "id": "proper-sentence",
   "metadata": {
    "execution": {
     "iopub.execute_input": "2021-05-31T14:55:36.814836Z",
     "iopub.status.busy": "2021-05-31T14:55:36.814161Z",
     "iopub.status.idle": "2021-05-31T14:55:36.819478Z",
     "shell.execute_reply": "2021-05-31T14:55:36.820063Z",
     "shell.execute_reply.started": "2021-05-31T14:19:25.585437Z"
    },
    "papermill": {
     "duration": 0.01724,
     "end_time": "2021-05-31T14:55:36.820239",
     "exception": false,
     "start_time": "2021-05-31T14:55:36.802999",
     "status": "completed"
    },
    "tags": []
   },
   "outputs": [],
   "source": [
    "import requests\n",
    "import json\n",
    "\n",
    "s=requests.Session()\n",
    "headers = {\n",
    "    'authority': 'homes.hdb.gov.sg',\n",
    "    'sec-ch-ua': '\" Not;A Brand\";v=\"99\", \"Google Chrome\";v=\"91\", \"Chromium\";v=\"91\"',\n",
    "    'accept': 'application/json, text/plain, */*',\n",
    "    'sessionid': 'a',\n",
    "    'sec-ch-ua-mobile': '?0',\n",
    "    'user-agent': 'Mozilla/5.0 (Windows NT 10.0; Win64; x64) AppleWebKit/537.36 (KHTML, like Gecko) Chrome/91.0.4472.77 Safari/537.36',\n",
    "    'content-type': 'application/json',\n",
    "    'origin': 'https://homes.hdb.gov.sg',\n",
    "    'sec-fetch-site': 'same-origin',\n",
    "    'sec-fetch-mode': 'cors',\n",
    "    'sec-fetch-dest': 'empty',\n",
    "    'referer': 'https://homes.hdb.gov.sg/home/finding-a-flat',\n",
    "    'accept-language': 'en-US,en;q=0.9,zh-CN;q=0.8,zh;q=0.7',\n",
    "}\n",
    "\n",
    "s.headers = headers"
   ]
  },
  {
   "cell_type": "code",
   "execution_count": 3,
   "id": "dimensional-cabinet",
   "metadata": {
    "execution": {
     "iopub.execute_input": "2021-05-31T14:55:36.840345Z",
     "iopub.status.busy": "2021-05-31T14:55:36.839711Z",
     "iopub.status.idle": "2021-05-31T14:55:39.721880Z",
     "shell.execute_reply": "2021-05-31T14:55:39.721266Z",
     "shell.execute_reply.started": "2021-05-31T14:19:25.603058Z"
    },
    "papermill": {
     "duration": 2.893202,
     "end_time": "2021-05-31T14:55:39.722045",
     "exception": false,
     "start_time": "2021-05-31T14:55:36.828843",
     "status": "completed"
    },
    "tags": []
   },
   "outputs": [
    {
     "data": {
      "text/plain": [
       "<Response [200]>"
      ]
     },
     "execution_count": 3,
     "metadata": {},
     "output_type": "execute_result"
    }
   ],
   "source": [
    "data = '{\"location\":\"\",\"coordinates\":[[\"\",\"\"]],\"range\":\"2\",\"priceRangeLower\":\"0\",\"priceRangeUpper\":\"0\",\"flatType\":\"\",\"waitingTime\":\"\",\"modeOfSale\":\"BTO,SBF\",\"floorRange\":\"\",\"remainingLeaseRangeLower\":1,\"remainingLeaseRangeUpper\":99,\"ethnicGroup\":\"Chinese\",\"rank\":\"Location, Price Range, Flat Type, Remaining Lease\"}'\n",
    "\n",
    "response = s.post('https://homes.hdb.gov.sg/home-api/public/v1/map/getCoordinatesByFilters', data=data)\n",
    "\n",
    "response"
   ]
  },
  {
   "cell_type": "code",
   "execution_count": 4,
   "id": "fleet-establishment",
   "metadata": {
    "execution": {
     "iopub.execute_input": "2021-05-31T14:55:39.758938Z",
     "iopub.status.busy": "2021-05-31T14:55:39.758196Z",
     "iopub.status.idle": "2021-05-31T15:02:20.323253Z",
     "shell.execute_reply": "2021-05-31T15:02:20.322601Z",
     "shell.execute_reply.started": "2021-05-31T14:51:49.790513Z"
    },
    "papermill": {
     "duration": 400.591757,
     "end_time": "2021-05-31T15:02:20.323411",
     "exception": false,
     "start_time": "2021-05-31T14:55:39.731654",
     "status": "completed"
    },
    "tags": []
   },
   "outputs": [
    {
     "data": {
      "application/vnd.jupyter.widget-view+json": {
       "model_id": "8dd377e49c304b96a761edd7464da66a",
       "version_major": 2,
       "version_minor": 0
      },
      "text/plain": [
       "  0%|          | 0/311 [00:00<?, ?it/s]"
      ]
     },
     "metadata": {},
     "output_type": "display_data"
    }
   ],
   "source": [
    "jsonstr=json.loads(response.text)\n",
    "detailedUrl='https://resources.homes.hdb.gov.sg/nf/{}.xml'\n",
    "# https://resources.homes.hdb.gov.sg/nf/2021-05/bto/tg_d2c4/2021-05_BTO_VEdfRDJDNF8xNjE5NTAyODQxMDYz.xml\n",
    "#all project details xml link follow this format - works well for BTO\n",
    "\n",
    "for x in tqdm(jsonstr):\n",
    "    # select only those launching\n",
    "    x['properties']['description']=x['properties']['description'][0]\n",
    "    if x['properties']['description']['stage']=='Launch':\n",
    "        storageDict={}\n",
    "    #     to try and reduce API calls on price range\n",
    "        if x['properties']['listingType']=='BTO':\n",
    "            projPath=x['properties']['description'].get('photoUrl','').rpartition('/')[0]\n",
    "            newUrl=detailedUrl.format(projPath+'/'+x['properties']['description']['projectId'])\n",
    "            details=s.get(newUrl)\n",
    "        elif x['properties']['listingType']=='SBF':\n",
    "            ballotQtr=x['properties']['description']['ballotQtr']\n",
    "            projectID=x['properties']['description']['projectId']\n",
    "            projDict='{\"projectId\":\"'+projectID+'\"}'\n",
    "            storageDict={}\n",
    "            x['availability']=json.loads(s.post('https://homes.hdb.gov.sg/home-api/public/v1/launch/getProjectAvailabilityAndEthnic',data=projDict).text)\n",
    "            for block,value in x['availability']['projectBlockFlatTypeInfoMap'].items():\n",
    "                for flatType in value.keys():\n",
    "                    if storageDict.get(flatType) is None:\n",
    "                        priceDict='{\"projectId\":\"'+projectID+'\",\"flatType\":\"'+flatType+'\"}'\n",
    "                        storageDict[flatType]=s.post('https://homes.hdb.gov.sg/home-api/public/v1/launch/getPriceRangeAcrossTownByProjectIdAndFlatType',data=priceDict).text\n",
    "                    x['availability']['projectBlockFlatTypeInfoMap'][block][flatType]['areaPrice']=storageDict[flatType]\n",
    "                        \n",
    "            details  = s.post('https://homes.hdb.gov.sg/home-api/public/v1/launch/getUnitXml',data=projDict)\n",
    "        if details.status_code!=requests.codes.ok:\n",
    "            print(x)\n",
    "        x['details']=details.text\n",
    "        # slowdown requests\n",
    "        time.sleep(0.5)"
   ]
  },
  {
   "cell_type": "code",
   "execution_count": 5,
   "id": "appropriate-fifteen",
   "metadata": {
    "execution": {
     "iopub.execute_input": "2021-05-31T15:02:20.386099Z",
     "iopub.status.busy": "2021-05-31T15:02:20.360352Z",
     "iopub.status.idle": "2021-05-31T15:02:20.471580Z",
     "shell.execute_reply": "2021-05-31T15:02:20.472294Z",
     "shell.execute_reply.started": "2021-05-31T14:28:36.189382Z"
    },
    "papermill": {
     "duration": 0.139741,
     "end_time": "2021-05-31T15:02:20.472478",
     "exception": false,
     "start_time": "2021-05-31T15:02:20.332737",
     "status": "completed"
    },
    "tags": []
   },
   "outputs": [
    {
     "data": {
      "text/html": [
       "<div>\n",
       "<style scoped>\n",
       "    .dataframe tbody tr th:only-of-type {\n",
       "        vertical-align: middle;\n",
       "    }\n",
       "\n",
       "    .dataframe tbody tr th {\n",
       "        vertical-align: top;\n",
       "    }\n",
       "\n",
       "    .dataframe thead th {\n",
       "        text-align: right;\n",
       "    }\n",
       "</style>\n",
       "<table border=\"1\" class=\"dataframe\">\n",
       "  <thead>\n",
       "    <tr style=\"text-align: right;\">\n",
       "      <th></th>\n",
       "      <th>coordinates</th>\n",
       "      <th>details</th>\n",
       "      <th>properties.address</th>\n",
       "      <th>properties.listingType</th>\n",
       "      <th>properties.description</th>\n",
       "      <th>properties.hdbCategory</th>\n",
       "      <th>properties.region</th>\n",
       "      <th>availability.availabilitySet</th>\n",
       "      <th>availability.projectBlockFlatTypeInfoMap</th>\n",
       "    </tr>\n",
       "  </thead>\n",
       "  <tbody>\n",
       "    <tr>\n",
       "      <th>0</th>\n",
       "      <td>[1.2868908, 103.8237244]</td>\n",
       "      <td>&lt;?xml version=\"1.0\" encoding=\"UTF-8\"?&gt;\\n&lt;templ...</td>\n",
       "      <td>Bukit Merah Ridge</td>\n",
       "      <td>BTO</td>\n",
       "      <td>{'photoUrl': '2022-05/bto/bm_n6c58/bm_n6c58_th...</td>\n",
       "      <td>1</td>\n",
       "      <td>CENTRAL REGION</td>\n",
       "      <td>NaN</td>\n",
       "      <td>NaN</td>\n",
       "    </tr>\n",
       "    <tr>\n",
       "      <th>1</th>\n",
       "      <td>[1.3401562, 103.7226641]</td>\n",
       "      <td>&lt;?xml version=\"1.0\" encoding=\"UTF-8\"?&gt;\\n&lt;templ...</td>\n",
       "      <td>Lakeside View</td>\n",
       "      <td>BTO</td>\n",
       "      <td>{'photoUrl': '2022-05/bto/jw_n3c31/jw_n3c31_th...</td>\n",
       "      <td>1</td>\n",
       "      <td>WEST REGION</td>\n",
       "      <td>NaN</td>\n",
       "      <td>NaN</td>\n",
       "    </tr>\n",
       "    <tr>\n",
       "      <th>2</th>\n",
       "      <td>[1.3115339, 103.7898642]</td>\n",
       "      <td>&lt;?xml version=\"1.0\" encoding=\"UTF-8\"?&gt;\\n&lt;templ...</td>\n",
       "      <td>Ghim Moh Ascent</td>\n",
       "      <td>BTO</td>\n",
       "      <td>{'photoUrl': '2022-05/bto/qt_n6c8/qt_n6c8_thum...</td>\n",
       "      <td>1</td>\n",
       "      <td>CENTRAL REGION</td>\n",
       "      <td>NaN</td>\n",
       "      <td>NaN</td>\n",
       "    </tr>\n",
       "    <tr>\n",
       "      <th>3</th>\n",
       "      <td>[1.338306, 103.8548273]</td>\n",
       "      <td>&lt;?xml version=\"1.0\" encoding=\"UTF-8\"?&gt;\\n&lt;templ...</td>\n",
       "      <td>Kim Keat Heights</td>\n",
       "      <td>BTO</td>\n",
       "      <td>{'photoUrl': '2022-05/bto/tp_n1c27/tp_n1c27_th...</td>\n",
       "      <td>1</td>\n",
       "      <td>CENTRAL REGION</td>\n",
       "      <td>NaN</td>\n",
       "      <td>NaN</td>\n",
       "    </tr>\n",
       "    <tr>\n",
       "      <th>4</th>\n",
       "      <td>[1.4238382, 103.8359392]</td>\n",
       "      <td>&lt;?xml version=\"1.0\" encoding=\"UTF-8\"?&gt;\\n&lt;templ...</td>\n",
       "      <td>Yishun Beacon</td>\n",
       "      <td>BTO</td>\n",
       "      <td>{'photoUrl': '2022-05/bto/ys_n9c3/ys_n9c3_thum...</td>\n",
       "      <td>1</td>\n",
       "      <td>NORTH REGION</td>\n",
       "      <td>NaN</td>\n",
       "      <td>NaN</td>\n",
       "    </tr>\n",
       "    <tr>\n",
       "      <th>5</th>\n",
       "      <td>[1.3766745369726854, 103.73789561376547]</td>\n",
       "      <td>&lt;?xml version=\"1.0\" encoding=\"UTF-8\" standalon...</td>\n",
       "      <td>Sunshine Court</td>\n",
       "      <td>SBF</td>\n",
       "      <td>{'maxRemainingLease': '45', 'stage': 'Launch',...</td>\n",
       "      <td>2</td>\n",
       "      <td>WEST REGION</td>\n",
       "      <td>[2022-05_SBF_476A_09_07, 2022-05_SBF_476A_02_01]</td>\n",
       "      <td>{'476A': {'2-room flexi': {'block': '476A', 'f...</td>\n",
       "    </tr>\n",
       "    <tr>\n",
       "      <th>6</th>\n",
       "      <td>[1.3765873889910192, 103.74007753792313]</td>\n",
       "      <td>&lt;?xml version=\"1.0\" encoding=\"UTF-8\" standalon...</td>\n",
       "      <td>Sunshine Gardens</td>\n",
       "      <td>SBF</td>\n",
       "      <td>{'maxRemainingLease': '94', 'stage': 'Launch',...</td>\n",
       "      <td>2</td>\n",
       "      <td>WEST REGION</td>\n",
       "      <td>[2022-05_SBF_488C_02_163, 2022-05_SBF_488C_02_...</td>\n",
       "      <td>{'488C': {'5-room': {'block': '488C', 'flatTyp...</td>\n",
       "    </tr>\n",
       "    <tr>\n",
       "      <th>7</th>\n",
       "      <td>[1.3942738802398278, 103.74452794822368]</td>\n",
       "      <td>&lt;?xml version=\"1.0\" encoding=\"UTF-8\" standalon...</td>\n",
       "      <td>Limbang Green</td>\n",
       "      <td>SBF</td>\n",
       "      <td>{'maxRemainingLease': '45', 'stage': 'Launch',...</td>\n",
       "      <td>2</td>\n",
       "      <td>WEST REGION</td>\n",
       "      <td>[2022-05_SBF_573_08_280, 2022-05_SBF_571_04_24...</td>\n",
       "      <td>{'573': {'2-room flexi': {'block': '573', 'fla...</td>\n",
       "    </tr>\n",
       "    <tr>\n",
       "      <th>8</th>\n",
       "      <td>[1.394688561612174, 103.74734039850861]</td>\n",
       "      <td>&lt;?xml version=\"1.0\" encoding=\"UTF-8\" standalon...</td>\n",
       "      <td>Choa Chu Kang Dr</td>\n",
       "      <td>SBF</td>\n",
       "      <td>{'maxRemainingLease': '74', 'stage': 'Launch',...</td>\n",
       "      <td>2</td>\n",
       "      <td>WEST REGION</td>\n",
       "      <td>[2022-05_SBF_784_03_207]</td>\n",
       "      <td>{'784': {'4-room': {'block': '784', 'flatType'...</td>\n",
       "    </tr>\n",
       "    <tr>\n",
       "      <th>9</th>\n",
       "      <td>[1.3755267556066781, 103.74967816227914]</td>\n",
       "      <td>&lt;?xml version=\"1.0\" encoding=\"UTF-8\" standalon...</td>\n",
       "      <td>Keat Hong Verge</td>\n",
       "      <td>SBF</td>\n",
       "      <td>{'maxRemainingLease': '99', 'stage': 'Launch',...</td>\n",
       "      <td>2</td>\n",
       "      <td>WEST REGION</td>\n",
       "      <td>[2022-05_SBF_819A_10_316, 2022-05_SBF_819A_21_...</td>\n",
       "      <td>{'820B': {'3-room': {'block': '820B', 'flatTyp...</td>\n",
       "    </tr>\n",
       "  </tbody>\n",
       "</table>\n",
       "</div>"
      ],
      "text/plain": [
       "                                coordinates  \\\n",
       "0                  [1.2868908, 103.8237244]   \n",
       "1                  [1.3401562, 103.7226641]   \n",
       "2                  [1.3115339, 103.7898642]   \n",
       "3                   [1.338306, 103.8548273]   \n",
       "4                  [1.4238382, 103.8359392]   \n",
       "5  [1.3766745369726854, 103.73789561376547]   \n",
       "6  [1.3765873889910192, 103.74007753792313]   \n",
       "7  [1.3942738802398278, 103.74452794822368]   \n",
       "8   [1.394688561612174, 103.74734039850861]   \n",
       "9  [1.3755267556066781, 103.74967816227914]   \n",
       "\n",
       "                                             details properties.address  \\\n",
       "0  <?xml version=\"1.0\" encoding=\"UTF-8\"?>\\n<templ...  Bukit Merah Ridge   \n",
       "1  <?xml version=\"1.0\" encoding=\"UTF-8\"?>\\n<templ...      Lakeside View   \n",
       "2  <?xml version=\"1.0\" encoding=\"UTF-8\"?>\\n<templ...    Ghim Moh Ascent   \n",
       "3  <?xml version=\"1.0\" encoding=\"UTF-8\"?>\\n<templ...   Kim Keat Heights   \n",
       "4  <?xml version=\"1.0\" encoding=\"UTF-8\"?>\\n<templ...      Yishun Beacon   \n",
       "5  <?xml version=\"1.0\" encoding=\"UTF-8\" standalon...     Sunshine Court   \n",
       "6  <?xml version=\"1.0\" encoding=\"UTF-8\" standalon...   Sunshine Gardens   \n",
       "7  <?xml version=\"1.0\" encoding=\"UTF-8\" standalon...      Limbang Green   \n",
       "8  <?xml version=\"1.0\" encoding=\"UTF-8\" standalon...   Choa Chu Kang Dr   \n",
       "9  <?xml version=\"1.0\" encoding=\"UTF-8\" standalon...    Keat Hong Verge   \n",
       "\n",
       "  properties.listingType                             properties.description  \\\n",
       "0                    BTO  {'photoUrl': '2022-05/bto/bm_n6c58/bm_n6c58_th...   \n",
       "1                    BTO  {'photoUrl': '2022-05/bto/jw_n3c31/jw_n3c31_th...   \n",
       "2                    BTO  {'photoUrl': '2022-05/bto/qt_n6c8/qt_n6c8_thum...   \n",
       "3                    BTO  {'photoUrl': '2022-05/bto/tp_n1c27/tp_n1c27_th...   \n",
       "4                    BTO  {'photoUrl': '2022-05/bto/ys_n9c3/ys_n9c3_thum...   \n",
       "5                    SBF  {'maxRemainingLease': '45', 'stage': 'Launch',...   \n",
       "6                    SBF  {'maxRemainingLease': '94', 'stage': 'Launch',...   \n",
       "7                    SBF  {'maxRemainingLease': '45', 'stage': 'Launch',...   \n",
       "8                    SBF  {'maxRemainingLease': '74', 'stage': 'Launch',...   \n",
       "9                    SBF  {'maxRemainingLease': '99', 'stage': 'Launch',...   \n",
       "\n",
       "  properties.hdbCategory properties.region  \\\n",
       "0                      1    CENTRAL REGION   \n",
       "1                      1       WEST REGION   \n",
       "2                      1    CENTRAL REGION   \n",
       "3                      1    CENTRAL REGION   \n",
       "4                      1      NORTH REGION   \n",
       "5                      2       WEST REGION   \n",
       "6                      2       WEST REGION   \n",
       "7                      2       WEST REGION   \n",
       "8                      2       WEST REGION   \n",
       "9                      2       WEST REGION   \n",
       "\n",
       "                        availability.availabilitySet  \\\n",
       "0                                                NaN   \n",
       "1                                                NaN   \n",
       "2                                                NaN   \n",
       "3                                                NaN   \n",
       "4                                                NaN   \n",
       "5   [2022-05_SBF_476A_09_07, 2022-05_SBF_476A_02_01]   \n",
       "6  [2022-05_SBF_488C_02_163, 2022-05_SBF_488C_02_...   \n",
       "7  [2022-05_SBF_573_08_280, 2022-05_SBF_571_04_24...   \n",
       "8                           [2022-05_SBF_784_03_207]   \n",
       "9  [2022-05_SBF_819A_10_316, 2022-05_SBF_819A_21_...   \n",
       "\n",
       "            availability.projectBlockFlatTypeInfoMap  \n",
       "0                                                NaN  \n",
       "1                                                NaN  \n",
       "2                                                NaN  \n",
       "3                                                NaN  \n",
       "4                                                NaN  \n",
       "5  {'476A': {'2-room flexi': {'block': '476A', 'f...  \n",
       "6  {'488C': {'5-room': {'block': '488C', 'flatTyp...  \n",
       "7  {'573': {'2-room flexi': {'block': '573', 'fla...  \n",
       "8  {'784': {'4-room': {'block': '784', 'flatType'...  \n",
       "9  {'820B': {'3-room': {'block': '820B', 'flatTyp...  "
      ]
     },
     "execution_count": 5,
     "metadata": {},
     "output_type": "execute_result"
    }
   ],
   "source": [
    "df=pd.json_normalize(jsonstr,max_level=1)\n",
    "df.head(10)"
   ]
  },
  {
   "cell_type": "code",
   "execution_count": 6,
   "id": "operating-archive",
   "metadata": {
    "execution": {
     "iopub.execute_input": "2021-05-31T15:02:20.495007Z",
     "iopub.status.busy": "2021-05-31T15:02:20.494395Z",
     "iopub.status.idle": "2021-05-31T15:02:20.502708Z",
     "shell.execute_reply": "2021-05-31T15:02:20.503174Z",
     "shell.execute_reply.started": "2021-05-31T14:34:40.926222Z"
    },
    "papermill": {
     "duration": 0.021081,
     "end_time": "2021-05-31T15:02:20.503350",
     "exception": false,
     "start_time": "2021-05-31T15:02:20.482269",
     "status": "completed"
    },
    "tags": []
   },
   "outputs": [
    {
     "data": {
      "text/plain": [
       "'<?xml version=\"1.0\" encoding=\"UTF-8\" standalone=\"yes\"?><template><project-name>Sunshine Court</project-name><standard-project-info><flat-types><flat-type><type>2-Room Flexi</type><block><block-number>476A</block-number><unit-id-list><unit-id>2022-05_SBF_476A_02_01</unit-id><unit-id>2022-05_SBF_476A_09_07</unit-id></unit-id-list><note>Mouseover to see prices for all lease periods.</note></block></flat-type></flat-types><ethnics><available-ethnic><ethnic>Malay</ethnic><block><block-number>476A</block-number><unit-id-list><unit-id>2022-05_SBF_476A_02_01</unit-id><unit-id>2022-05_SBF_476A_09_07</unit-id></unit-id-list></block></available-ethnic><available-ethnic><ethnic>Chinese</ethnic><block><block-number>476A</block-number><unit-id-list><unit-id>2022-05_SBF_476A_02_01</unit-id><unit-id>2022-05_SBF_476A_09_07</unit-id></unit-id-list></block></available-ethnic><available-ethnic><ethnic>Indian/Other Races</ethnic><block><block-number>476A</block-number><unit-id-list><unit-id>2022-05_SBF_476A_02_01</unit-id><unit-id>2022-05_SBF_476A_09_07</unit-id></unit-id-list></block></available-ethnic></ethnics><unit-details><unit><flat-type>2-Room Flexi</flat-type><block-number>476A</block-number><unit-id>2022-05_SBF_476A_02_01</unit-id><unit-number>01</unit-number><level>02</level><area>36</area><deliveryPossessionDate>Keys Available</deliveryPossessionDate><estimatedCompletionDate>-</estimatedCompletionDate><price>57200</price><short-lease-price><tenure-45>57200</tenure-45><tenure-40>55000</tenure-40><tenure-35>52300</tenure-35><tenure-30>49200</tenure-30><tenure-25>45400</tenure-25><tenure-20>40900</tenure-20><tenure-15>35400</tenure-15></short-lease-price><price-tooltip>&lt;![CDATA[&lt;br&gt;$57,200 - 45 Years &lt;br&gt;$55,000 - 40 Years &lt;br&gt;$52,300 - 35 Years &lt;br&gt;$49,200 - 30 Years &lt;br&gt;$45,400 - 25 Years &lt;br&gt;$40,900 - 20 Years &lt;br&gt;$35,400 - 15 Years &lt;br&gt;</price-tooltip><re-purchase-tooltip>You may view floor plans and photographs (if available) of this specific unit.</re-purchase-tooltip></unit><unit><flat-type>2-Room Flexi</flat-type><block-number>476A</block-number><unit-id>2022-05_SBF_476A_09_07</unit-id><unit-number>07</unit-number><level>09</level><area>47</area><deliveryPossessionDate>Keys Available</deliveryPossessionDate><estimatedCompletionDate>-</estimatedCompletionDate><price>84400</price><short-lease-price><tenure-45>84400</tenure-45><tenure-40>80900</tenure-40><tenure-35>76800</tenure-35><tenure-30>72000</tenure-30><tenure-25>66300</tenure-25><tenure-20>59400</tenure-20><tenure-15>51000</tenure-15></short-lease-price><price-tooltip>&lt;![CDATA[&lt;br&gt;$84,400 - 45 Years &lt;br&gt;$80,900 - 40 Years &lt;br&gt;$76,800 - 35 Years &lt;br&gt;$72,000 - 30 Years &lt;br&gt;$66,300 - 25 Years &lt;br&gt;$59,400 - 20 Years &lt;br&gt;$51,000 - 15 Years &lt;br&gt;</price-tooltip><re-purchase-tooltip>You may view floor plans and photographs (if available) of this specific unit.</re-purchase-tooltip></unit></unit-details><key><town>Choa Chu Kang</town></key><key><remaining-lease>15 - 45 years</remaining-lease></key><key><completion-date>-</completion-date></key><key><possession-date>Keys Available</possession-date></key><key><street-name>Choa Chu Kang Ave 5</street-name></key></standard-project-info></template>'"
      ]
     },
     "execution_count": 6,
     "metadata": {},
     "output_type": "execute_result"
    }
   ],
   "source": [
    "df['details'][5]"
   ]
  },
  {
   "cell_type": "code",
   "execution_count": 7,
   "id": "187fffb6",
   "metadata": {},
   "outputs": [
    {
     "name": "stdout",
     "output_type": "stream",
     "text": [
      "past_data\\2022\\may-2022\n"
     ]
    }
   ],
   "source": [
    "# create past data save path, use balot qtr \n",
    "monthYear = datetime.strptime(jsonstr[0]['properties']['description']['ballotQtr'],'%Y-%m').strftime('%h-%Y').lower()\n",
    "year = datetime.now().strftime('%Y')\n",
    "savePath = os.path.join('past_data', year, monthYear)\n",
    "Path(savePath).mkdir(parents=True, exist_ok=True)\n",
    "\n",
    "print(savePath)"
   ]
  },
  {
   "cell_type": "code",
   "execution_count": 8,
   "id": "exotic-collection",
   "metadata": {
    "execution": {
     "iopub.execute_input": "2021-05-31T15:02:20.529590Z",
     "iopub.status.busy": "2021-05-31T15:02:20.528801Z",
     "iopub.status.idle": "2021-05-31T15:02:20.816651Z",
     "shell.execute_reply": "2021-05-31T15:02:20.815880Z",
     "shell.execute_reply.started": "2021-05-31T14:34:45.196417Z"
    },
    "papermill": {
     "duration": 0.303481,
     "end_time": "2021-05-31T15:02:20.816854",
     "exception": false,
     "start_time": "2021-05-31T15:02:20.513373",
     "status": "completed"
    },
    "tags": []
   },
   "outputs": [
    {
     "name": "stderr",
     "output_type": "stream",
     "text": [
      "C:\\Users\\willi\\miniconda3\\envs\\workspace\\lib\\site-packages\\pandas\\core\\generic.py:2703: PerformanceWarning: \n",
      "your performance may suffer as PyTables will pickle object types that it cannot\n",
      "map directly to c-types [inferred_type->mixed,key->block0_values] [items->Index(['coordinates', 'details', 'properties.address',\n",
      "       'properties.listingType', 'properties.description',\n",
      "       'properties.hdbCategory', 'properties.region',\n",
      "       'availability.availabilitySet',\n",
      "       'availability.projectBlockFlatTypeInfoMap'],\n",
      "      dtype='object')]\n",
      "\n",
      "  pytables.to_hdf(\n"
     ]
    }
   ],
   "source": [
    "# save data in various formats\n",
    "fileName = os.path.join(savePath, 'hdb-sale-'+monthYear)\n",
    "df.to_hdf(fileName+'.h5','HDBSALES')\n",
    "df.to_pickle(fileName+'.pkl')\n",
    "with open(fileName+\".json\", \"w\") as write_file:\n",
    "    json.dump(jsonstr, write_file)"
   ]
  },
  {
   "cell_type": "code",
   "execution_count": 9,
   "id": "rapid-rouge",
   "metadata": {
    "execution": {
     "iopub.execute_input": "2021-05-31T15:02:20.845345Z",
     "iopub.status.busy": "2021-05-31T15:02:20.844368Z",
     "iopub.status.idle": "2021-05-31T15:02:20.848692Z",
     "shell.execute_reply": "2021-05-31T15:02:20.848172Z",
     "shell.execute_reply.started": "2021-05-31T14:35:01.479838Z"
    },
    "papermill": {
     "duration": 0.020653,
     "end_time": "2021-05-31T15:02:20.848835",
     "exception": false,
     "start_time": "2021-05-31T15:02:20.828182",
     "status": "completed"
    },
    "tags": []
   },
   "outputs": [
    {
     "data": {
      "text/plain": [
       "{'coordinates': '[1.3401562, 103.7226641]',\n",
       " 'properties': {'address': 'Lakeside View',\n",
       "  'listingType': 'BTO',\n",
       "  'description': {'photoUrl': '2022-05/bto/jw_n3c31/jw_n3c31_thumbnail.jpg',\n",
       "   'maxRemainingLease': '99',\n",
       "   'stage': 'Launch',\n",
       "   'distance': '-1',\n",
       "   'town': 'Jurong West',\n",
       "   'launchStartDate': '2022-05-27 10:00:00.0',\n",
       "   'ballotQtr': '2022-05',\n",
       "   'flatType': '2-Room Flexi, 3-Room (Income Ceiling $7,000), 4-Room, 5-Room',\n",
       "   'maxPrice': '526000',\n",
       "   'projectId': '2022-05_BTO_SldfTjNDMzFfMTY1MDI3NDIwODU5Nw'},\n",
       "  'hdbCategory': '1',\n",
       "  'region': 'WEST REGION'},\n",
       " 'details': '<?xml version=\"1.0\" encoding=\"UTF-8\"?>\\n<template>\\n    <project-name>Lakeside View</project-name>\\n    <standard-project-info>\\n        <key>\\n            <town>Jurong West</town>\\n            <tooltip/>\\n            <uri/>\\n        </key>\\n        <key>\\n            <point>1231|1283</point>\\n        </key>\\n        <key>\\n            <latitude>1.3401562</latitude>\\n            <longitude>103.7226641</longitude>\\n        </key>\\n        <key>\\n            <completion-date>4Q2026</completion-date>\\n            <tooltip>\\n                \\n      This is an estimated date that the flat will be completed and ready for key collection, and the actual completion date will depend on the progress of construction works on site. As the Estimated Completion Date (ECD) is indicative only, HDB shall not be responsible for any damage or loss arising from a change in the ECD.\\n      &lt;br>&lt;br>\\n      After booking the flat, buyers may check for updates via My HDBPage on HDB InfoWEB, as the construction of the project progresses.\\n      &lt;br>&lt;br>\\n      Note: The contractual date in the Agreement for Lease by which HDB is required to deliver vacant possession of the booked flat to buyers is known as the Delivery Possession Date (DPD), which may vary from project to project. Currently, the estimated DPD is from 30 Jun 2028.\\n\\t\\t\\t\\t\\n            </tooltip>\\n            <uri/>\\n        </key>\\n        <key>\\n            <remaining-lease>99</remaining-lease>\\n            <tooltip>The 3-, 4-, and 5-room flats are sold on a 99-year lease. First-timer and second-timer families, and first-timer singles will be offered 99-year 2-room Flexi flats. Eligible Singapore Citizens and their spouses (if applicable) aged 55 and above can choose a short lease of between 15 and 45 years, in five-year increments, for the 2-room Flexi flat. The chosen lease has to cover them up to the age of at least 95 years.  \\n      </tooltip>\\n            <uri/>\\n        </key>\\n        <key>\\n            <selection-month>Jul 2022 to Apr 2023</selection-month>\\n        </key>\\n        <key>\\n            <est-waiting-time>46 months</est-waiting-time>\\n        </key>\\n        <key>\\n            <lease-period-2rm>B</lease-period-2rm>\\n        </key>\\n        <key>\\n            <price-tooltip>\\n                \\n      The indicative price range of the flats exclude grants and are based on 99-year leases.\\n      &lt;br>&lt;br>\\n      Actual prices may vary based on the actual attributes of the flats at the time of selection. Find out details of the Optional Component Scheme offered for this project.\\n      &lt;br>&lt;br>\\n      Singles who apply for a 2-room Flexi flat under the Single Singapore Citizen Scheme will pay $15,000 more than married couples.\\n\\t\\t\\t\\t\\n            </price-tooltip>\\n        </key>\\n        <unit-details>\\n            <ukey>\\n                <flat-type>2-room Flexi (Type 1)</flat-type>\\n                <supply>100</supply>\\n                <est-floor-area-lower>38</est-floor-area-lower>\\n                <est-floor-area-upper>38</est-floor-area-upper>\\n                <tooltip>Refers to the estimated area of the whole apartment, comprising the internal floor area and the air-conditioner ledge</tooltip>\\n                <est-internal-floor-area-lower>36</est-internal-floor-area-lower>\\n                <est-internal-floor-area-upper>36</est-internal-floor-area-upper>\\n                <tooltip>Refers to the estimated area of the apartment computed based on the centre line of the apartment wall.</tooltip>\\n                <price-range-lower>107000</price-range-lower>\\n                <price-range-upper>145000</price-range-upper>\\n                <finishes-and-fittings-text>\\n                    <non-optional>\\n                        \\n              &lt;h4>Finishes and Fittings&lt;/h4>\\n              &lt;br>\\n              &lt;h5>Non-Optional Finishes&lt;/h5>\\n              &lt;br>\\n              &lt;p>More than just a well-designed and functional interior, the 2-room Flexi (Type 1) flats will come with the following finishes and fittings: &lt;/p>\\n              &lt;ul>\\n                &lt;li>Floor tiles in the:&lt;/li>\\n                &lt;ul>\\n                  &lt;li>Bathroom&lt;/li>\\n                  &lt;li>Household shelter&lt;/li>\\n                  &lt;li>Kitchen&lt;/li>\\n                &lt;/ul>\\n                &lt;li>Wall tiles in the: &lt;/li>\\n                &lt;ul>\\n                  &lt;li>Bathroom&lt;/li>\\n                  &lt;li>Kitchen &lt;/li>\\n                &lt;/ul>\\n                &lt;li>A sliding partition/ door for the bedroom and folding bathroom door&lt;/li>\\n                &lt;li>Grab bars (for 2-room Flexi flats on short-leases)&lt;/li>\\n              &lt;/ul>\\n                    </non-optional>\\n                    <optional>\\n                        <floor>\\n                            <header>Package 1: Flooring for Living/ Dining and Bedroom </header>\\n                            <price>2490</price>\\n                            <text>\\n                                \\n  &lt;ul>\\n    &lt;li>Vinyl strip flooring &lt;/li>\\n  &lt;/ul>\\n  &lt;p>Buyers who opt for Package 1, will be provided with a 3-panel sliding partition, separating the living room and bedroom.  Those who do not opt for Package 1, will be provided with a 2-panel sliding partition separating the living room and bedroom.  &lt;/p>\\n\\n                            </text>\\n                        </floor>\\n                        <door>\\n                            <header>Package 2: Sanitary fittings </header>\\n                            <price>530</price>\\n                            <text>\\n                                \\n  &lt;ul>\\n    &lt;li>Wash basin with tap mixer&lt;/li>\\n    &lt;li>Shower set with bath/ shower mixer&lt;/li>\\n  &lt;/ul>\\n\\n                            </text>\\n                        </door>\\n                        <elderly>\\n                            <header>Package 3 for short-lease 2-room Flexi flats  </header>\\n                            <price>6120</price>\\n                            <text>\\n                                \\n  &lt;p>Buyers who opt for Package 3 must opt for Package 1.&lt;/p>\\n  &lt;ul>\\n    &lt;li>Lighting &lt;/li>\\n    &lt;li>Window grilles &lt;/li>\\n    &lt;li>Built-in kitchen cabinets with induction hob and cooker hood, kitchen sink, tap, and dish drying rack. Buyers who are wheel-chair bound may choose to have a lower kitchen countertop&lt;/li>\\n    &lt;li>Built-in wardrobe&lt;/li>\\n    &lt;li>Water heater &lt;/li>\\n    &lt;li>Mirror and toilet roll holder in bathroom&lt;/li>\\n  &lt;/ul>\\n\\n                            </text>\\n                        </elderly>\\n                    </optional>\\n                </finishes-and-fittings-text>\\n            </ukey>\\n            <ukey>\\n                <flat-type>2-room Flexi (Type 2)</flat-type>\\n                <supply>355</supply>\\n                <est-floor-area-lower>48</est-floor-area-lower>\\n                <est-floor-area-upper>48</est-floor-area-upper>\\n                <tooltip>Refers to the estimated area of the whole apartment, comprising the internal floor area and the air-conditioner ledge</tooltip>\\n                <est-internal-floor-area-lower>46</est-internal-floor-area-lower>\\n                <est-internal-floor-area-upper>46</est-internal-floor-area-upper>\\n                <tooltip>Refers to the estimated area of the apartment computed based on the centre line of the apartment wall.</tooltip>\\n                <price-range-lower>133000</price-range-lower>\\n                <price-range-upper>180000</price-range-upper>\\n                <finishes-and-fittings-text>\\n                    <non-optional>\\n                        \\n              &lt;h4>Finishes and Fittings&lt;/h4>\\n              &lt;br>\\n              &lt;h5>Non-Optional Finishes&lt;/h5>\\n              &lt;br>\\n              &lt;p>More than just a well-designed and functional interior, the 2-room Flexi (Type 2) flats will come with the following finishes and fittings: &lt;/p>\\n              &lt;ul>\\n                &lt;li>Floor tiles in the:&lt;/li>\\n                &lt;ul>\\n                  &lt;li>Bathroom&lt;/li>\\n                  &lt;li>Household shelter&lt;/li>\\n                  &lt;li>Kitchen&lt;/li>\\n                &lt;/ul>\\n                &lt;li>Wall tiles in the: &lt;/li>\\n                &lt;ul>\\n                  &lt;li>Bathroom&lt;/li>\\n                  &lt;li>Kitchen &lt;/li>\\n                &lt;/ul>\\n                &lt;li>A sliding partition/ door for the bedroom and folding bathroom door&lt;/li>\\n                &lt;li>Grab bars (for 2-room Flexi flats on short-leases)&lt;/li>\\n              &lt;/ul>\\n                    </non-optional>\\n                    <optional>\\n                        <floor>\\n                            <header>Package 1: Flooring for Living/ Dining and Bedroom </header>\\n                            <price>2960</price>\\n                            <text>\\n                                \\n  &lt;ul>\\n    &lt;li>Vinyl strip flooring &lt;/li>\\n  &lt;/ul>\\n  &lt;p>Buyers who opt for Package 1, will be provided with a 3-panel sliding partition, separating the living room and bedroom.  Those who do not opt for Package 1, will be provided with a 2-panel sliding partition separating the living room and bedroom.   &lt;/p>\\n\\n                            </text>\\n                        </floor>\\n                        <door>\\n                            <header>Package 2: Sanitary fittings  </header>\\n                            <price>530</price>\\n                            <text>\\n                                \\n  &lt;ul>\\n    &lt;li>Wash basin with tap mixer&lt;/li>\\n    &lt;li>Shower set with bath/ shower mixer&lt;/li>\\n  &lt;/ul>\\n\\n                            </text>\\n                        </door>\\n                        <elderly>\\n                            <header>Package 3 for short-lease 2-room Flexi flats </header>\\n                            <price>7380</price>\\n                            <text>\\n                                \\n  &lt;p>Buyers who opt for Package 3 must opt for Package 1. &lt;/p>\\n  &lt;ul>\\n    &lt;li>Lighting &lt;/li>\\n    &lt;li>Window grilles &lt;/li>\\n    &lt;li>Built-in kitchen cabinets with induction hob and cooker hood, kitchen sink, tap, and dish drying rack. Buyers who are wheel-chair bound may choose to have a lower kitchen countertop&lt;/li>\\n    &lt;li>Built-in wardrobe&lt;/li>\\n    &lt;li>Water heater &lt;/li>\\n    &lt;li>Mirror and toilet roll holder in bathroom&lt;/li>\\n    &lt;li>Laminated UPVC folding door for the flexible space &lt;/li>\\n  &lt;/ul>\\n\\n                            </text>\\n                        </elderly>\\n                    </optional>\\n                </finishes-and-fittings-text>\\n            </ukey>\\n            <ukey>\\n                <flat-type>3-Room (Income Ceiling $7,000)</flat-type>\\n                <supply>101</supply>\\n                <est-floor-area-lower>68</est-floor-area-lower>\\n                <est-floor-area-upper>68</est-floor-area-upper>\\n                <tooltip>Refers to the estimated area of the whole apartment, comprising the internal floor area and the air-conditioner ledge</tooltip>\\n                <est-internal-floor-area-lower>66</est-internal-floor-area-lower>\\n                <est-internal-floor-area-upper>66</est-internal-floor-area-upper>\\n                <tooltip>Refers to the estimated area of the apartment computed based on the centre line of the apartment wall.</tooltip>\\n                <price-range-lower>215000</price-range-lower>\\n                <price-range-upper>265000</price-range-upper>\\n                <finishes-and-fittings-text>\\n                    <non-optional>\\n                        \\n              &lt;h4>Finishes and Fittings&lt;/h4>\\n              &lt;br>\\n              &lt;h5>Non-Optional Finishes&lt;/h5>\\n              &lt;br>\\n              &lt;p>More than just a well-designed and functional interior, the 3-room flats will come with the following finishes and fittings: &lt;/p>\\n              &lt;ul>\\n                &lt;li>Floor tiles in the:&lt;/li>\\n                &lt;ul>\\n                  &lt;li>Bathrooms&lt;/li>\\n                  &lt;li>Household shelter&lt;/li>\\n                  &lt;li>Kitchen/ utility &lt;/li>\\n                &lt;/ul>\\n                &lt;li>Wall tiles in the:&lt;/li>\\n                &lt;ul>\\n                  &lt;li>Bathrooms&lt;/li>\\n                  &lt;li>Kitchen/ utility &lt;/li>\\n                &lt;/ul>\\n              &lt;/ul>\\n                    </non-optional>\\n                    <optional>\\n                        <floor>\\n                            <header>Flooring for Living/ Dining, Dry Kitchen, and Bedrooms </header>\\n                            <price>3340</price>\\n                            <text>\\n                                \\n  &lt;ul>\\n    &lt;li>Vinyl strip flooring in the bedrooms&lt;/li>\\n    &lt;li>Polished porcelain floor tiles in the living/ dining, dry kitchen  &lt;/li>\\n  &lt;/ul>\\n\\n                            </text>\\n                        </floor>\\n                        <door>\\n                            <header>Internal Doors and Sanitary Fittings </header>\\n                            <price>2770</price>\\n                            <text>\\n                                \\n  &lt;ul>\\n    &lt;li>2 laminated UPVC bedroom doors&lt;/li>\\n    &lt;li>2 laminated UPVC folding bathroom doors&lt;/li>\\n    &lt;li>Wash basin with tap mixer&lt;/li>\\n    &lt;li>Shower set with bath/ shower mixer&lt;/li>\\n  &lt;/ul>\\n\\n                            </text>\\n                        </door>\\n                    </optional>\\n                </finishes-and-fittings-text>\\n            </ukey>\\n            <ukey>\\n                <flat-type>4-room</flat-type>\\n                <supply>246</supply>\\n                <est-floor-area-lower>93</est-floor-area-lower>\\n                <est-floor-area-upper>93</est-floor-area-upper>\\n                <tooltip>Refers to the estimated area of the whole apartment, comprising the internal floor area and the air-conditioner ledge</tooltip>\\n                <est-internal-floor-area-lower>90</est-internal-floor-area-lower>\\n                <est-internal-floor-area-upper>90</est-internal-floor-area-upper>\\n                <tooltip>Refers to the estimated area of the apartment computed based on the centre line of the apartment wall.</tooltip>\\n                <price-range-lower>320000</price-range-lower>\\n                <price-range-upper>393000</price-range-upper>\\n                <finishes-and-fittings-text>\\n                    <non-optional>\\n                        \\n&lt;h4>Finishes and Fittings&lt;/h4>\\n&lt;br>\\n&lt;h5>Non-Optional Finishes&lt;/h5>\\n&lt;br>\\n&lt;p>More than just a well-designed and functional interior, the 4-room flats will come with the following finishes and fittings: &lt;/p>\\n&lt;ul>\\n  &lt;li>Floor tiles in the:&lt;/li>\\n  &lt;ul>\\n    &lt;li>Bathrooms&lt;/li>\\n    &lt;li>Household shelter&lt;/li>\\n    &lt;li>Kitchen and service yard&lt;/li>\\n  &lt;/ul>\\n  &lt;li>Wall tiles in the:&lt;/li>\\n  &lt;ul>\\n    &lt;li>Bathrooms&lt;/li>\\n    &lt;li>Kitchen  &lt;/li>\\n  &lt;/ul>\\n&lt;/ul>\\n                    </non-optional>\\n                    <optional>\\n                        <floor>\\n                            <header>Flooring for Living/ Dining and Bedrooms </header>\\n                            <price>4970</price>\\n                            <text>\\n                                \\n  &lt;ul>\\n    &lt;li>Vinyl strip flooring in the bedrooms&lt;/li>\\n    &lt;li>Polished porcelain floor tiles in the living/ dining&lt;/li>\\n  &lt;/ul>\\n\\n                            </text>\\n                        </floor>\\n                        <door>\\n                            <header>Internal Doors and Sanitary Fittings </header>\\n                            <price>3180</price>\\n                            <text>\\n                                \\n  &lt;ul>\\n    &lt;li>3 laminated UPVC bedroom doors&lt;/li>\\n    &lt;li>2 laminated UPVC folding bathroom doors&lt;/li>\\n    &lt;li>Wash basin with tap mixer&lt;/li>\\n    &lt;li>Shower set with bath/ shower mixer&lt;/li>\\n  &lt;/ul>\\n\\n                            </text>\\n                        </door>\\n                    </optional>\\n                </finishes-and-fittings-text>\\n            </ukey>\\n            <ukey>\\n                <flat-type>5-room</flat-type>\\n                <supply>214</supply>\\n                <est-floor-area-lower>113</est-floor-area-lower>\\n                <est-floor-area-upper>113</est-floor-area-upper>\\n                <tooltip>Refers to the estimated area of the whole apartment, comprising the internal floor area and the air-conditioner ledge</tooltip>\\n                <est-internal-floor-area-lower>110</est-internal-floor-area-lower>\\n                <est-internal-floor-area-upper>110</est-internal-floor-area-upper>\\n                <tooltip>Refers to the estimated area of the apartment computed based on the centre line of the apartment wall.</tooltip>\\n                <price-range-lower>412000</price-range-lower>\\n                <price-range-upper>526000</price-range-upper>\\n                <finishes-and-fittings-text>\\n                    <non-optional>\\n                        \\n&lt;h4>Finishes and Fittings&lt;/h4>\\n&lt;br>\\n&lt;h5>Non-Optional Finishes&lt;/h5>\\n&lt;br>\\n&lt;p>More than just a well-designed and functional interior, the 5-room flats will come with the following finishes and fittings: &lt;/p>\\n&lt;ul>\\n  &lt;li>Floor tiles in the:&lt;/li>\\n  &lt;ul>\\n    &lt;li>Bathrooms&lt;/li>\\n    &lt;li>Household shelter&lt;/li>\\n    &lt;li>Kitchen and service yard&lt;/li>\\n  &lt;/ul>\\n  &lt;li>Wall tiles in the:&lt;/li>\\n  &lt;ul>\\n    &lt;li>Bathrooms&lt;/li>\\n    &lt;li>Kitchen  &lt;/li>\\n  &lt;/ul>\\n&lt;/ul>\\n                    </non-optional>\\n                    <optional>\\n                        <floor>\\n                            <header>Flooring for Living/ Dining and Bedrooms </header>\\n                            <price>6060</price>\\n                            <text>\\n                                \\n  &lt;ul>\\n    &lt;li>Vinyl strip flooring in the bedrooms&lt;/li>\\n    &lt;li>Polished porcelain floor tiles in the living/ dining&lt;/li>\\n  &lt;/ul>\\n\\n                            </text>\\n                        </floor>\\n                        <door>\\n                            <header>Internal Doors and Sanitary Fittings </header>\\n                            <price>3180</price>\\n                            <text>\\n                                \\n  &lt;ul>\\n    &lt;li>3 laminated UPVC bedroom doors&lt;/li>\\n    &lt;li>2 laminated UPVC folding bathroom doors&lt;/li>\\n    &lt;li>Wash basin with tap mixer&lt;/li>\\n    &lt;li>Shower set with bath/ shower mixer&lt;/li>\\n  &lt;/ul>\\n\\n                            </text>\\n                        </door>\\n                    </optional>\\n                </finishes-and-fittings-text>\\n            </ukey>\\n        </unit-details>\\n        <overview>\\n            <p>\\n                \\n&lt;h6>Jurong West&lt;/h6>\\n&lt;br/>\\nLakeside View &lt;a class=\"audioBtn Lakeside-View\">&lt;i class=\"fas fa-volume-up\">&lt;/i>&lt;/a> is located next to Jurong Lake and Jurong Lake Gardens, and bounded by Kang Ching Road and Yuan Ching Road. The development comprises 7 residential blocks ranging from 11 to 18 storeys. You can choose from 1,016 units of 2-room Flexi, 3-, 4-, and 5-room flats.\\n&lt;br>&lt;br>\\nLakeside View offers scenic views of Jurong Lake Gardens and the surrounding greenery. The development comes with roof gardens at some residential blocks and above the Multi-Storey Car Park which provide spaces for neighbourly interaction. Boasting lushly landscaped spaces, the development comes with a variety of recreational and communal amenities such as children’s playgrounds and adult and elderly fitness stations for daily exercises. You can also enjoy the convenience of a café, childcare centre, and residents’ network centre within the development.\\n&lt;br>&lt;br>\\nPlease refer to the site plan located at the top of this page, for the facilities provided in the development. Facilities in this development will be accessible by the public.\\n&lt;br>&lt;br>\\n\\n            </p>\\n        </overview>\\n        <notes>\\n            <p>\\n                HDB precincts are planned to serve the evolving needs of the community. There are spaces catered for future inclusion of amenities/ facilities (such as childcare centres, elderly-related facilities, education centres, residents\\' network centres, day activity centres, etc), commercial facilities (such as shops and eating houses), mechanical and electrical rooms, and such other facilities depending on the prevailing needs. These spaces could be in the void decks, common property, car parks, or stand-alone community buildings.\\n\\t\\t\\t&lt;br>&lt;br>\\n\\t\\t\\tIn addition, housing projects may be located near roads, railways, airbases, and land used for non-residential purposes. Hence, residents may experience higher noise levels. We have provided information on the surrounding land use, proposed facilities and their locations in the maps and plans of individual projects, where feasible. The information provided is indicatively based on the current planning intent of the relevant authorities and is subject to change from time to time. \\n\\t\\t\\t&lt;br>&lt;br>\\n\\t\\t\\t&lt;ul>\\n\\t\\t\\t&lt;li>Get answers to &lt;a href=\"https://www.hdb.gov.sg/cs/infoweb/residential/buying-a-flat/buying-procedure-for-new-flats/modes-of-sale/faqs-for-sales-launch\">Frequently Asked Questions on sales launches&lt;/a>&lt;/li>\\n\\t\\t\\t&lt;br>\\n   \\t\\t\\t&lt;li>Visit the virtual showflats at &lt;a href=\"https://www.hdb.gov.sg/mynicehomegallery?utm_source=May22website&amp;utm_medium=link&amp;utm_campaign=MNHG\">My Nice Home Gallery&lt;/a> and get interior decor ideas&lt;/li>\\n\\t\\t\\t&lt;/ul>\\n\\t\\t\\t\\n            </p>\\n        </notes>\\n    </standard-project-info>\\n    <template-body>\\n        <row>\\n            <header>Eco-Friendly Features</header>\\n        </row>\\n        <row>\\n            <p>\\n                &lt;p>To encourage green and sustainable living, Lakeside View will have several eco-friendly features such as:&lt;/p>\\n\\t\\t\\t\\t&lt;ul>\\n\\t\\t\\t\\t\\t&lt;li>Separate chutes for recyclable waste&lt;/li>\\n\\t\\t\\t\\t\\t&lt;li>Regenerative lifts to reduce energy consumption&lt;/li>\\n\\t\\t\\t\\t\\t&lt;li>Bicycle stands to encourage cycling as an environmentally-friendly form of transport&lt;/li>\\n\\t\\t\\t\\t\\t&lt;li>Parking spaces to facilitate future provision of electric vehicle charging stations &lt;/li>\\n\\t\\t\\t\\t\\t&lt;li>Use of sustainable products in the development&lt;/li>\\n\\t\\t\\t\\t\\t&lt;li>Active, Beautiful, Clean Waters design features to clean rainwater and beautify the landscapes&lt;/li>\\n\\t\\t\\t\\t&lt;/ul>\\n            </p>\\n        </row>\\n        <row>\\n            <template1>\\n                <photo-folder>2022-05/bto/jw_n3c31/template1</photo-folder>\\n                <photos>\\n                    <photo>2022-05/bto/jw_n3c31/template1/1.jpg</photo>\\n                    <photo>2022-05/bto/jw_n3c31/template1/2.jpg</photo>\\n                    <photo>2022-05/bto/jw_n3c31/template1/3.jpg</photo>\\n                </photos>\\n            </template1>\\n        </row>\\n        <row>\\n            <header>Smart Solutions</header>\\n        </row>\\n        <row>\\n            <p>\\n                \\n        Lakeside View will come with the following smart solutions to reduce energy usage, and contribute to a safer and more sustainable living environment:\\n\\t\\t\\t\\t&lt;ul>\\n        \\t&lt;li>Smart-Enabled Homes with provisions to support easy installation of smart systems&lt;/li>\\n          &lt;li>Smart Lighting in common areas to reduce energy usage&lt;/li>\\n\\t\\t\\t\\t&lt;/ul>\\n  \\t\\t\\t\\n            </p>\\n        </row>\\n        <row>\\n            <header>About Jurong West Town</header>\\n        </row>\\n        <row>\\n            <p>\\n                \\n        Enjoy a wide range of food and shopping choices at Taman Jurong Market and Food Centre, where you will find local delights and fresh produce. Visit &lt;a href=\"https://www.hdb.gov.sg/cs/infoweb/residential/where2shop/explore/jurong-west\">Where2Shop@HDB&lt;/a> to find out more about HDB’s heartland shops in this area.\\n        &lt;br>&lt;br>\\n        Jurong Lake Gardens and the Jurong Park Connector offer opportunities for relaxing strolls or jogs with a scenic view. For the sports enthusiasts, ActiveSG Park @ Jurong Lake Gardens comes with a range of sporting facilities for a good workout.\\n        &lt;br>&lt;br>\\n        Parents with school-going children can consider nearby schools such as Lakeside Primary School and Yuan Ching and Yuhua Secondary Schools. Lakeside View is conveniently located near Lakeside MRT Station.\\n\\t\\t\\t\\n            </p>\\n        </row>\\n        <row>\\n            <template2>\\n                <photo-folder>2022-05/bto/jw_n3c31/template2</photo-folder>\\n                <photos>\\n                    <photo>2022-05/bto/jw_n3c31/template2/1.jpg</photo>\\n                    <photo>2022-05/bto/jw_n3c31/template2/2.jpg</photo>\\n                    <photo>2022-05/bto/jw_n3c31/template2/3.jpg</photo>\\n                    <photo>2022-05/bto/jw_n3c31/template2/4.jpg</photo>\\n                    <photo>2022-05/bto/jw_n3c31/template2/5.jpg</photo>\\n                    <photo>2022-05/bto/jw_n3c31/template2/6.jpg</photo>\\n                </photos>\\n            </template2>\\n        </row>\\n    </template-body>\\n    <resources>\\n        <town-map>2022-05/bto/jw_n3c31/townmap/townmap_jw_n3c31.jpg</town-map>\\n        <carousel>\\n            <link>2022-05/bto/jw_n3c31/carousel/01_perspective.jpg</link>\\n            <link>2022-05/bto/jw_n3c31/carousel/02_perspective.jpg</link>\\n            <link>2022-05/bto/jw_n3c31/carousel/03_siteplan_jw_n3c31.jpg</link>\\n        </carousel>\\n        <sound>2022-05/bto/jw_n3c31/sound/jw_n3c31.mp3</sound>\\n        <genspecs>\\n            <genspecs-2rm>2022-05/bto/jw_n3c31/genspecs/genspecs_jw_n3c31_2rm.jpg</genspecs-2rm>\\n            <genspecs-2rm>2022-05/bto/jw_n3c31/genspecs/genspecs_jw_n3c31_2rm_3rm_4rm_5rm.jpg</genspecs-2rm>\\n            <genspecs-3rm>2022-05/bto/jw_n3c31/genspecs/genspecs_jw_n3c31_2rm_3rm_4rm_5rm.jpg</genspecs-3rm>\\n            <genspecs-4rm>2022-05/bto/jw_n3c31/genspecs/genspecs_jw_n3c31_2rm_3rm_4rm_5rm.jpg</genspecs-4rm>\\n            <genspecs-5rm>2022-05/bto/jw_n3c31/genspecs/genspecs_jw_n3c31_2rm_3rm_4rm_5rm.jpg</genspecs-5rm>\\n        </genspecs>\\n        <layoutideas>\\n            <layoutideas-2rmtype1>2022-05/bto/jw_n3c31/layoutideas/layoutideas_jw_n3c31_2rmtype1.jpg</layoutideas-2rmtype1>\\n            <layoutideas-2rmtype2>2022-05/bto/jw_n3c31/layoutideas/layoutideas_jw_n3c31_2rmtype2.jpg</layoutideas-2rmtype2>\\n            <layoutideas-3rm>2022-05/bto/jw_n3c31/layoutideas/layoutideas_jw_n3c31_3rm.jpg</layoutideas-3rm>\\n            <layoutideas-4rm>2022-05/bto/jw_n3c31/layoutideas/layoutideas_jw_n3c31_4rm.jpg</layoutideas-4rm>\\n            <layoutideas-5rm>2022-05/bto/jw_n3c31/layoutideas/layoutideas_jw_n3c31_5rm.jpg</layoutideas-5rm>\\n        </layoutideas>\\n        <resale>\\n            <resale-2rm>2022-05/bto/jw_n3c31/resale/resale_jw_n3c31_2rm.jpg</resale-2rm>\\n            <resale-3rm>2022-05/bto/jw_n3c31/resale/resale_jw_n3c31_3rm.jpg</resale-3rm>\\n            <resale-4rm>2022-05/bto/jw_n3c31/resale/resale_jw_n3c31_4rm.jpg</resale-4rm>\\n            <resale-5rm>2022-05/bto/jw_n3c31/resale/resale_jw_n3c31_5rm.jpg</resale-5rm>\\n        </resale>\\n        <oydh>\\n            <oydh-2rmtype1>2022-05/bto/jw_n3c31/oydh/oydh_jw_n3c31_2rmtype1.jpg</oydh-2rmtype1>\\n            <oydh-2rmtype2>2022-05/bto/jw_n3c31/oydh/oydh_jw_n3c31_2rmtype2.jpg</oydh-2rmtype2>\\n            <oydh-3rm>2022-05/bto/jw_n3c31/oydh/oydh_jw_n3c31_3rm.jpg</oydh-3rm>\\n            <oydh-4rm>2022-05/bto/jw_n3c31/oydh/oydh_jw_n3c31_4rm.jpg</oydh-4rm>\\n            <oydh-5rm>2022-05/bto/jw_n3c31/oydh/oydh_jw_n3c31_5rm.jpg</oydh-5rm>\\n        </oydh>\\n        <ocsleaflet>\\n            <ocsleaflet-2rm>2022-05/bto/jw_n3c31/ocsleaflet/ocsleaflet_jw_n3c31_2rm(1).png</ocsleaflet-2rm>\\n            <ocsleaflet-2rm>2022-05/bto/jw_n3c31/ocsleaflet/ocsleaflet_jw_n3c31_2rm(2).png</ocsleaflet-2rm>\\n            <ocsleaflet-3rm>2022-05/bto/jw_n3c31/ocsleaflet/ocsleaflet_jw_n3c31_3rm_4rm_5rm(1).png</ocsleaflet-3rm>\\n            <ocsleaflet-4rm>2022-05/bto/jw_n3c31/ocsleaflet/ocsleaflet_jw_n3c31_3rm_4rm_5rm(1).png</ocsleaflet-4rm>\\n            <ocsleaflet-5rm>2022-05/bto/jw_n3c31/ocsleaflet/ocsleaflet_jw_n3c31_3rm_4rm_5rm(1).png</ocsleaflet-5rm>\\n        </ocsleaflet>\\n        <ocs/>\\n    </resources>\\n</template>'}"
      ]
     },
     "execution_count": 9,
     "metadata": {},
     "output_type": "execute_result"
    }
   ],
   "source": [
    "jsonstr[1]"
   ]
  }
 ],
 "metadata": {
  "kernelspec": {
   "display_name": "Python 3",
   "language": "python",
   "name": "python3"
  },
  "language_info": {
   "codemirror_mode": {
    "name": "ipython",
    "version": 3
   },
   "file_extension": ".py",
   "mimetype": "text/x-python",
   "name": "python",
   "nbconvert_exporter": "python",
   "pygments_lexer": "ipython3",
   "version": "3.8.12"
  },
  "papermill": {
   "default_parameters": {},
   "duration": 414.03848,
   "end_time": "2021-05-31T15:02:22.522059",
   "environment_variables": {},
   "exception": null,
   "input_path": "__notebook__.ipynb",
   "output_path": "__notebook__.ipynb",
   "parameters": {},
   "start_time": "2021-05-31T14:55:28.483579",
   "version": "2.3.3"
  }
 },
 "nbformat": 4,
 "nbformat_minor": 5
}
